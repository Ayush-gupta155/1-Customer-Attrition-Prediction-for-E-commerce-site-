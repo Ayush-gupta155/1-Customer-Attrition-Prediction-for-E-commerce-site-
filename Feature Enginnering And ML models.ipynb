{
 "cells": [
  {
   "cell_type": "code",
   "execution_count": 1,
   "id": "f2710abd",
   "metadata": {},
   "outputs": [],
   "source": [
    "import pandas as pd\n",
    "import numpy as np\n",
    "import matplotlib.pyplot as plt\n",
    "import seaborn as sns\n",
    "import warnings\n",
    "warnings.filterwarnings(\"ignore\")\n",
    "\n",
    "from matplotlib import rcParams\n",
    "rcParams['figure.figsize'] = 12, 4\n",
    "rcParams['lines.linewidth'] = 2\n",
    "rcParams['xtick.labelsize'] = 'large'\n",
    "rcParams['ytick.labelsize'] = 'large'"
   ]
  },
  {
   "cell_type": "code",
   "execution_count": 3,
   "id": "e0dcd6c0",
   "metadata": {},
   "outputs": [],
   "source": [
    "df = pd.DataFrame(pd.read_csv(\"E Commerce Dataset.csv\"))"
   ]
  },
  {
   "cell_type": "code",
   "execution_count": 4,
   "id": "aea2a701",
   "metadata": {},
   "outputs": [
    {
     "data": {
      "text/html": [
       "<div>\n",
       "<style scoped>\n",
       "    .dataframe tbody tr th:only-of-type {\n",
       "        vertical-align: middle;\n",
       "    }\n",
       "\n",
       "    .dataframe tbody tr th {\n",
       "        vertical-align: top;\n",
       "    }\n",
       "\n",
       "    .dataframe thead th {\n",
       "        text-align: right;\n",
       "    }\n",
       "</style>\n",
       "<table border=\"1\" class=\"dataframe\">\n",
       "  <thead>\n",
       "    <tr style=\"text-align: right;\">\n",
       "      <th></th>\n",
       "      <th>CustomerID</th>\n",
       "      <th>Churn</th>\n",
       "      <th>Tenure</th>\n",
       "      <th>PreferredLoginDevice</th>\n",
       "      <th>CityTier</th>\n",
       "      <th>WarehouseToHome</th>\n",
       "      <th>PreferredPaymentMode</th>\n",
       "      <th>Gender</th>\n",
       "      <th>HourSpendOnApp</th>\n",
       "      <th>NumberOfDeviceRegistered</th>\n",
       "      <th>PreferedOrderCat</th>\n",
       "      <th>SatisfactionScore</th>\n",
       "      <th>MaritalStatus</th>\n",
       "      <th>NumberOfAddress</th>\n",
       "      <th>Complain</th>\n",
       "      <th>OrderAmountHikeFromlastYear</th>\n",
       "      <th>CouponUsed</th>\n",
       "      <th>OrderCount</th>\n",
       "      <th>DaySinceLastOrder</th>\n",
       "      <th>CashbackAmount</th>\n",
       "    </tr>\n",
       "  </thead>\n",
       "  <tbody>\n",
       "    <tr>\n",
       "      <th>0</th>\n",
       "      <td>50001</td>\n",
       "      <td>1</td>\n",
       "      <td>4.0</td>\n",
       "      <td>Mobile Phone</td>\n",
       "      <td>3</td>\n",
       "      <td>6.0</td>\n",
       "      <td>Debit Card</td>\n",
       "      <td>Female</td>\n",
       "      <td>3.0</td>\n",
       "      <td>3</td>\n",
       "      <td>Laptop &amp; Accessory</td>\n",
       "      <td>2</td>\n",
       "      <td>Single</td>\n",
       "      <td>9</td>\n",
       "      <td>1</td>\n",
       "      <td>11.0</td>\n",
       "      <td>1.0</td>\n",
       "      <td>1.0</td>\n",
       "      <td>5.0</td>\n",
       "      <td>159.93</td>\n",
       "    </tr>\n",
       "    <tr>\n",
       "      <th>1</th>\n",
       "      <td>50002</td>\n",
       "      <td>1</td>\n",
       "      <td>NaN</td>\n",
       "      <td>Phone</td>\n",
       "      <td>1</td>\n",
       "      <td>8.0</td>\n",
       "      <td>UPI</td>\n",
       "      <td>Male</td>\n",
       "      <td>3.0</td>\n",
       "      <td>4</td>\n",
       "      <td>Mobile</td>\n",
       "      <td>3</td>\n",
       "      <td>Single</td>\n",
       "      <td>7</td>\n",
       "      <td>1</td>\n",
       "      <td>15.0</td>\n",
       "      <td>0.0</td>\n",
       "      <td>1.0</td>\n",
       "      <td>0.0</td>\n",
       "      <td>120.90</td>\n",
       "    </tr>\n",
       "    <tr>\n",
       "      <th>2</th>\n",
       "      <td>50003</td>\n",
       "      <td>1</td>\n",
       "      <td>NaN</td>\n",
       "      <td>Phone</td>\n",
       "      <td>1</td>\n",
       "      <td>30.0</td>\n",
       "      <td>Debit Card</td>\n",
       "      <td>Male</td>\n",
       "      <td>2.0</td>\n",
       "      <td>4</td>\n",
       "      <td>Mobile</td>\n",
       "      <td>3</td>\n",
       "      <td>Single</td>\n",
       "      <td>6</td>\n",
       "      <td>1</td>\n",
       "      <td>14.0</td>\n",
       "      <td>0.0</td>\n",
       "      <td>1.0</td>\n",
       "      <td>3.0</td>\n",
       "      <td>120.28</td>\n",
       "    </tr>\n",
       "    <tr>\n",
       "      <th>3</th>\n",
       "      <td>50004</td>\n",
       "      <td>1</td>\n",
       "      <td>0.0</td>\n",
       "      <td>Phone</td>\n",
       "      <td>3</td>\n",
       "      <td>15.0</td>\n",
       "      <td>Debit Card</td>\n",
       "      <td>Male</td>\n",
       "      <td>2.0</td>\n",
       "      <td>4</td>\n",
       "      <td>Laptop &amp; Accessory</td>\n",
       "      <td>5</td>\n",
       "      <td>Single</td>\n",
       "      <td>8</td>\n",
       "      <td>0</td>\n",
       "      <td>23.0</td>\n",
       "      <td>0.0</td>\n",
       "      <td>1.0</td>\n",
       "      <td>3.0</td>\n",
       "      <td>134.07</td>\n",
       "    </tr>\n",
       "    <tr>\n",
       "      <th>4</th>\n",
       "      <td>50005</td>\n",
       "      <td>1</td>\n",
       "      <td>0.0</td>\n",
       "      <td>Phone</td>\n",
       "      <td>1</td>\n",
       "      <td>12.0</td>\n",
       "      <td>CC</td>\n",
       "      <td>Male</td>\n",
       "      <td>NaN</td>\n",
       "      <td>3</td>\n",
       "      <td>Mobile</td>\n",
       "      <td>5</td>\n",
       "      <td>Single</td>\n",
       "      <td>3</td>\n",
       "      <td>0</td>\n",
       "      <td>11.0</td>\n",
       "      <td>1.0</td>\n",
       "      <td>1.0</td>\n",
       "      <td>3.0</td>\n",
       "      <td>129.60</td>\n",
       "    </tr>\n",
       "  </tbody>\n",
       "</table>\n",
       "</div>"
      ],
      "text/plain": [
       "   CustomerID  Churn  Tenure PreferredLoginDevice  CityTier  WarehouseToHome  \\\n",
       "0       50001      1     4.0         Mobile Phone         3              6.0   \n",
       "1       50002      1     NaN                Phone         1              8.0   \n",
       "2       50003      1     NaN                Phone         1             30.0   \n",
       "3       50004      1     0.0                Phone         3             15.0   \n",
       "4       50005      1     0.0                Phone         1             12.0   \n",
       "\n",
       "  PreferredPaymentMode  Gender  HourSpendOnApp  NumberOfDeviceRegistered  \\\n",
       "0           Debit Card  Female             3.0                         3   \n",
       "1                  UPI    Male             3.0                         4   \n",
       "2           Debit Card    Male             2.0                         4   \n",
       "3           Debit Card    Male             2.0                         4   \n",
       "4                   CC    Male             NaN                         3   \n",
       "\n",
       "     PreferedOrderCat  SatisfactionScore MaritalStatus  NumberOfAddress  \\\n",
       "0  Laptop & Accessory                  2        Single                9   \n",
       "1              Mobile                  3        Single                7   \n",
       "2              Mobile                  3        Single                6   \n",
       "3  Laptop & Accessory                  5        Single                8   \n",
       "4              Mobile                  5        Single                3   \n",
       "\n",
       "   Complain  OrderAmountHikeFromlastYear  CouponUsed  OrderCount  \\\n",
       "0         1                         11.0         1.0         1.0   \n",
       "1         1                         15.0         0.0         1.0   \n",
       "2         1                         14.0         0.0         1.0   \n",
       "3         0                         23.0         0.0         1.0   \n",
       "4         0                         11.0         1.0         1.0   \n",
       "\n",
       "   DaySinceLastOrder  CashbackAmount  \n",
       "0                5.0          159.93  \n",
       "1                0.0          120.90  \n",
       "2                3.0          120.28  \n",
       "3                3.0          134.07  \n",
       "4                3.0          129.60  "
      ]
     },
     "execution_count": 4,
     "metadata": {},
     "output_type": "execute_result"
    }
   ],
   "source": [
    "df.head()"
   ]
  },
  {
   "cell_type": "code",
   "execution_count": 5,
   "id": "53c1cee3",
   "metadata": {},
   "outputs": [
    {
     "name": "stdout",
     "output_type": "stream",
     "text": [
      "<class 'pandas.core.frame.DataFrame'>\n",
      "RangeIndex: 5630 entries, 0 to 5629\n",
      "Data columns (total 20 columns):\n",
      " #   Column                       Non-Null Count  Dtype  \n",
      "---  ------                       --------------  -----  \n",
      " 0   CustomerID                   5630 non-null   int64  \n",
      " 1   Churn                        5630 non-null   int64  \n",
      " 2   Tenure                       5366 non-null   float64\n",
      " 3   PreferredLoginDevice         5630 non-null   object \n",
      " 4   CityTier                     5630 non-null   int64  \n",
      " 5   WarehouseToHome              5379 non-null   float64\n",
      " 6   PreferredPaymentMode         5630 non-null   object \n",
      " 7   Gender                       5630 non-null   object \n",
      " 8   HourSpendOnApp               5375 non-null   float64\n",
      " 9   NumberOfDeviceRegistered     5630 non-null   int64  \n",
      " 10  PreferedOrderCat             5630 non-null   object \n",
      " 11  SatisfactionScore            5630 non-null   int64  \n",
      " 12  MaritalStatus                5630 non-null   object \n",
      " 13  NumberOfAddress              5630 non-null   int64  \n",
      " 14  Complain                     5630 non-null   int64  \n",
      " 15  OrderAmountHikeFromlastYear  5365 non-null   float64\n",
      " 16  CouponUsed                   5374 non-null   float64\n",
      " 17  OrderCount                   5372 non-null   float64\n",
      " 18  DaySinceLastOrder            5323 non-null   float64\n",
      " 19  CashbackAmount               5630 non-null   float64\n",
      "dtypes: float64(8), int64(7), object(5)\n",
      "memory usage: 879.8+ KB\n"
     ]
    }
   ],
   "source": [
    "df.info()"
   ]
  },
  {
   "cell_type": "code",
   "execution_count": 6,
   "id": "0f002ecc",
   "metadata": {},
   "outputs": [
    {
     "name": "stdout",
     "output_type": "stream",
     "text": [
      "Coloumn CustomerID:\n",
      "Missing values : 0 from  5630\n",
      "Percent missing value: 0.0 %\n",
      "------------------------------\n",
      "Coloumn Churn:\n",
      "Missing values : 0 from  5630\n",
      "Percent missing value: 0.0 %\n",
      "------------------------------\n",
      "Coloumn Tenure:\n",
      "Missing values : 264 from  5630\n",
      "Percent missing value: 4.69 %\n",
      "------------------------------\n",
      "Coloumn PreferredLoginDevice:\n",
      "Missing values : 0 from  5630\n",
      "Percent missing value: 0.0 %\n",
      "------------------------------\n",
      "Coloumn CityTier:\n",
      "Missing values : 0 from  5630\n",
      "Percent missing value: 0.0 %\n",
      "------------------------------\n",
      "Coloumn WarehouseToHome:\n",
      "Missing values : 251 from  5630\n",
      "Percent missing value: 4.46 %\n",
      "------------------------------\n",
      "Coloumn PreferredPaymentMode:\n",
      "Missing values : 0 from  5630\n",
      "Percent missing value: 0.0 %\n",
      "------------------------------\n",
      "Coloumn Gender:\n",
      "Missing values : 0 from  5630\n",
      "Percent missing value: 0.0 %\n",
      "------------------------------\n",
      "Coloumn HourSpendOnApp:\n",
      "Missing values : 255 from  5630\n",
      "Percent missing value: 4.53 %\n",
      "------------------------------\n",
      "Coloumn NumberOfDeviceRegistered:\n",
      "Missing values : 0 from  5630\n",
      "Percent missing value: 0.0 %\n",
      "------------------------------\n",
      "Coloumn PreferedOrderCat:\n",
      "Missing values : 0 from  5630\n",
      "Percent missing value: 0.0 %\n",
      "------------------------------\n",
      "Coloumn SatisfactionScore:\n",
      "Missing values : 0 from  5630\n",
      "Percent missing value: 0.0 %\n",
      "------------------------------\n",
      "Coloumn MaritalStatus:\n",
      "Missing values : 0 from  5630\n",
      "Percent missing value: 0.0 %\n",
      "------------------------------\n",
      "Coloumn NumberOfAddress:\n",
      "Missing values : 0 from  5630\n",
      "Percent missing value: 0.0 %\n",
      "------------------------------\n",
      "Coloumn Complain:\n",
      "Missing values : 0 from  5630\n",
      "Percent missing value: 0.0 %\n",
      "------------------------------\n",
      "Coloumn OrderAmountHikeFromlastYear:\n",
      "Missing values : 265 from  5630\n",
      "Percent missing value: 4.71 %\n",
      "------------------------------\n",
      "Coloumn CouponUsed:\n",
      "Missing values : 256 from  5630\n",
      "Percent missing value: 4.55 %\n",
      "------------------------------\n",
      "Coloumn OrderCount:\n",
      "Missing values : 258 from  5630\n",
      "Percent missing value: 4.58 %\n",
      "------------------------------\n",
      "Coloumn DaySinceLastOrder:\n",
      "Missing values : 307 from  5630\n",
      "Percent missing value: 5.45 %\n",
      "------------------------------\n",
      "Coloumn CashbackAmount:\n",
      "Missing values : 0 from  5630\n",
      "Percent missing value: 0.0 %\n",
      "------------------------------\n"
     ]
    }
   ],
   "source": [
    "for i in df.columns:\n",
    "    percent = round(df[i].isna().sum()*100/len(df[i]),2)\n",
    "    print(f'''Coloumn {i}:''')\n",
    "    print('Missing values :',df[i].isna().sum(),'from ',len(df))\n",
    "    print(f'''Percent missing value:''',percent, '%')\n",
    "    print('---'*10)"
   ]
  },
  {
   "cell_type": "markdown",
   "id": "c7baa6bd",
   "metadata": {},
   "source": [
    "## Numerical Features"
   ]
  },
  {
   "cell_type": "code",
   "execution_count": 7,
   "id": "e9c35fd3",
   "metadata": {},
   "outputs": [
    {
     "data": {
      "text/plain": [
       "['CustomerID',\n",
       " 'Churn',\n",
       " 'Tenure',\n",
       " 'CityTier',\n",
       " 'WarehouseToHome',\n",
       " 'HourSpendOnApp',\n",
       " 'NumberOfDeviceRegistered',\n",
       " 'SatisfactionScore',\n",
       " 'NumberOfAddress',\n",
       " 'Complain',\n",
       " 'OrderAmountHikeFromlastYear',\n",
       " 'CouponUsed',\n",
       " 'OrderCount',\n",
       " 'DaySinceLastOrder',\n",
       " 'CashbackAmount']"
      ]
     },
     "execution_count": 7,
     "metadata": {},
     "output_type": "execute_result"
    }
   ],
   "source": [
    "num_fea = [features for features in df.columns if df[features].dtype != 'O']\n",
    "num_fea"
   ]
  },
  {
   "cell_type": "code",
   "execution_count": 8,
   "id": "cbd42233",
   "metadata": {},
   "outputs": [
    {
     "data": {
      "text/html": [
       "<div>\n",
       "<style scoped>\n",
       "    .dataframe tbody tr th:only-of-type {\n",
       "        vertical-align: middle;\n",
       "    }\n",
       "\n",
       "    .dataframe tbody tr th {\n",
       "        vertical-align: top;\n",
       "    }\n",
       "\n",
       "    .dataframe thead th {\n",
       "        text-align: right;\n",
       "    }\n",
       "</style>\n",
       "<table border=\"1\" class=\"dataframe\">\n",
       "  <thead>\n",
       "    <tr style=\"text-align: right;\">\n",
       "      <th></th>\n",
       "      <th>count</th>\n",
       "      <th>mean</th>\n",
       "      <th>std</th>\n",
       "      <th>min</th>\n",
       "      <th>25%</th>\n",
       "      <th>50%</th>\n",
       "      <th>75%</th>\n",
       "      <th>max</th>\n",
       "    </tr>\n",
       "  </thead>\n",
       "  <tbody>\n",
       "    <tr>\n",
       "      <th>CustomerID</th>\n",
       "      <td>5630.0</td>\n",
       "      <td>52815.500000</td>\n",
       "      <td>1625.385339</td>\n",
       "      <td>50001.0</td>\n",
       "      <td>51408.25</td>\n",
       "      <td>52815.50</td>\n",
       "      <td>54222.7500</td>\n",
       "      <td>55630.00</td>\n",
       "    </tr>\n",
       "    <tr>\n",
       "      <th>Churn</th>\n",
       "      <td>5630.0</td>\n",
       "      <td>0.168384</td>\n",
       "      <td>0.374240</td>\n",
       "      <td>0.0</td>\n",
       "      <td>0.00</td>\n",
       "      <td>0.00</td>\n",
       "      <td>0.0000</td>\n",
       "      <td>1.00</td>\n",
       "    </tr>\n",
       "    <tr>\n",
       "      <th>Tenure</th>\n",
       "      <td>5366.0</td>\n",
       "      <td>10.189899</td>\n",
       "      <td>8.557241</td>\n",
       "      <td>0.0</td>\n",
       "      <td>2.00</td>\n",
       "      <td>9.00</td>\n",
       "      <td>16.0000</td>\n",
       "      <td>61.00</td>\n",
       "    </tr>\n",
       "    <tr>\n",
       "      <th>CityTier</th>\n",
       "      <td>5630.0</td>\n",
       "      <td>1.654707</td>\n",
       "      <td>0.915389</td>\n",
       "      <td>1.0</td>\n",
       "      <td>1.00</td>\n",
       "      <td>1.00</td>\n",
       "      <td>3.0000</td>\n",
       "      <td>3.00</td>\n",
       "    </tr>\n",
       "    <tr>\n",
       "      <th>WarehouseToHome</th>\n",
       "      <td>5379.0</td>\n",
       "      <td>15.639896</td>\n",
       "      <td>8.531475</td>\n",
       "      <td>5.0</td>\n",
       "      <td>9.00</td>\n",
       "      <td>14.00</td>\n",
       "      <td>20.0000</td>\n",
       "      <td>127.00</td>\n",
       "    </tr>\n",
       "    <tr>\n",
       "      <th>HourSpendOnApp</th>\n",
       "      <td>5375.0</td>\n",
       "      <td>2.931535</td>\n",
       "      <td>0.721926</td>\n",
       "      <td>0.0</td>\n",
       "      <td>2.00</td>\n",
       "      <td>3.00</td>\n",
       "      <td>3.0000</td>\n",
       "      <td>5.00</td>\n",
       "    </tr>\n",
       "    <tr>\n",
       "      <th>NumberOfDeviceRegistered</th>\n",
       "      <td>5630.0</td>\n",
       "      <td>3.688988</td>\n",
       "      <td>1.023999</td>\n",
       "      <td>1.0</td>\n",
       "      <td>3.00</td>\n",
       "      <td>4.00</td>\n",
       "      <td>4.0000</td>\n",
       "      <td>6.00</td>\n",
       "    </tr>\n",
       "    <tr>\n",
       "      <th>SatisfactionScore</th>\n",
       "      <td>5630.0</td>\n",
       "      <td>3.066785</td>\n",
       "      <td>1.380194</td>\n",
       "      <td>1.0</td>\n",
       "      <td>2.00</td>\n",
       "      <td>3.00</td>\n",
       "      <td>4.0000</td>\n",
       "      <td>5.00</td>\n",
       "    </tr>\n",
       "    <tr>\n",
       "      <th>NumberOfAddress</th>\n",
       "      <td>5630.0</td>\n",
       "      <td>4.214032</td>\n",
       "      <td>2.583586</td>\n",
       "      <td>1.0</td>\n",
       "      <td>2.00</td>\n",
       "      <td>3.00</td>\n",
       "      <td>6.0000</td>\n",
       "      <td>22.00</td>\n",
       "    </tr>\n",
       "    <tr>\n",
       "      <th>Complain</th>\n",
       "      <td>5630.0</td>\n",
       "      <td>0.284902</td>\n",
       "      <td>0.451408</td>\n",
       "      <td>0.0</td>\n",
       "      <td>0.00</td>\n",
       "      <td>0.00</td>\n",
       "      <td>1.0000</td>\n",
       "      <td>1.00</td>\n",
       "    </tr>\n",
       "    <tr>\n",
       "      <th>OrderAmountHikeFromlastYear</th>\n",
       "      <td>5365.0</td>\n",
       "      <td>15.707922</td>\n",
       "      <td>3.675485</td>\n",
       "      <td>11.0</td>\n",
       "      <td>13.00</td>\n",
       "      <td>15.00</td>\n",
       "      <td>18.0000</td>\n",
       "      <td>26.00</td>\n",
       "    </tr>\n",
       "    <tr>\n",
       "      <th>CouponUsed</th>\n",
       "      <td>5374.0</td>\n",
       "      <td>1.751023</td>\n",
       "      <td>1.894621</td>\n",
       "      <td>0.0</td>\n",
       "      <td>1.00</td>\n",
       "      <td>1.00</td>\n",
       "      <td>2.0000</td>\n",
       "      <td>16.00</td>\n",
       "    </tr>\n",
       "    <tr>\n",
       "      <th>OrderCount</th>\n",
       "      <td>5372.0</td>\n",
       "      <td>3.008004</td>\n",
       "      <td>2.939680</td>\n",
       "      <td>1.0</td>\n",
       "      <td>1.00</td>\n",
       "      <td>2.00</td>\n",
       "      <td>3.0000</td>\n",
       "      <td>16.00</td>\n",
       "    </tr>\n",
       "    <tr>\n",
       "      <th>DaySinceLastOrder</th>\n",
       "      <td>5323.0</td>\n",
       "      <td>4.543491</td>\n",
       "      <td>3.654433</td>\n",
       "      <td>0.0</td>\n",
       "      <td>2.00</td>\n",
       "      <td>3.00</td>\n",
       "      <td>7.0000</td>\n",
       "      <td>46.00</td>\n",
       "    </tr>\n",
       "    <tr>\n",
       "      <th>CashbackAmount</th>\n",
       "      <td>5630.0</td>\n",
       "      <td>177.223030</td>\n",
       "      <td>49.207036</td>\n",
       "      <td>0.0</td>\n",
       "      <td>145.77</td>\n",
       "      <td>163.28</td>\n",
       "      <td>196.3925</td>\n",
       "      <td>324.99</td>\n",
       "    </tr>\n",
       "  </tbody>\n",
       "</table>\n",
       "</div>"
      ],
      "text/plain": [
       "                              count          mean          std      min  \\\n",
       "CustomerID                   5630.0  52815.500000  1625.385339  50001.0   \n",
       "Churn                        5630.0      0.168384     0.374240      0.0   \n",
       "Tenure                       5366.0     10.189899     8.557241      0.0   \n",
       "CityTier                     5630.0      1.654707     0.915389      1.0   \n",
       "WarehouseToHome              5379.0     15.639896     8.531475      5.0   \n",
       "HourSpendOnApp               5375.0      2.931535     0.721926      0.0   \n",
       "NumberOfDeviceRegistered     5630.0      3.688988     1.023999      1.0   \n",
       "SatisfactionScore            5630.0      3.066785     1.380194      1.0   \n",
       "NumberOfAddress              5630.0      4.214032     2.583586      1.0   \n",
       "Complain                     5630.0      0.284902     0.451408      0.0   \n",
       "OrderAmountHikeFromlastYear  5365.0     15.707922     3.675485     11.0   \n",
       "CouponUsed                   5374.0      1.751023     1.894621      0.0   \n",
       "OrderCount                   5372.0      3.008004     2.939680      1.0   \n",
       "DaySinceLastOrder            5323.0      4.543491     3.654433      0.0   \n",
       "CashbackAmount               5630.0    177.223030    49.207036      0.0   \n",
       "\n",
       "                                  25%       50%         75%       max  \n",
       "CustomerID                   51408.25  52815.50  54222.7500  55630.00  \n",
       "Churn                            0.00      0.00      0.0000      1.00  \n",
       "Tenure                           2.00      9.00     16.0000     61.00  \n",
       "CityTier                         1.00      1.00      3.0000      3.00  \n",
       "WarehouseToHome                  9.00     14.00     20.0000    127.00  \n",
       "HourSpendOnApp                   2.00      3.00      3.0000      5.00  \n",
       "NumberOfDeviceRegistered         3.00      4.00      4.0000      6.00  \n",
       "SatisfactionScore                2.00      3.00      4.0000      5.00  \n",
       "NumberOfAddress                  2.00      3.00      6.0000     22.00  \n",
       "Complain                         0.00      0.00      1.0000      1.00  \n",
       "OrderAmountHikeFromlastYear     13.00     15.00     18.0000     26.00  \n",
       "CouponUsed                       1.00      1.00      2.0000     16.00  \n",
       "OrderCount                       1.00      2.00      3.0000     16.00  \n",
       "DaySinceLastOrder                2.00      3.00      7.0000     46.00  \n",
       "CashbackAmount                 145.77    163.28    196.3925    324.99  "
      ]
     },
     "execution_count": 8,
     "metadata": {},
     "output_type": "execute_result"
    }
   ],
   "source": [
    "df[num_fea].describe().transpose()"
   ]
  },
  {
   "cell_type": "markdown",
   "id": "a9687b21",
   "metadata": {},
   "source": [
    "## Categorical Features"
   ]
  },
  {
   "cell_type": "code",
   "execution_count": 9,
   "id": "469978fe",
   "metadata": {},
   "outputs": [
    {
     "data": {
      "text/plain": [
       "['PreferredLoginDevice',\n",
       " 'PreferredPaymentMode',\n",
       " 'Gender',\n",
       " 'PreferedOrderCat',\n",
       " 'MaritalStatus']"
      ]
     },
     "execution_count": 9,
     "metadata": {},
     "output_type": "execute_result"
    }
   ],
   "source": [
    "cat_fea = [features for features in df.columns if df[features].dtype == 'O']\n",
    "cat_fea"
   ]
  },
  {
   "cell_type": "code",
   "execution_count": 10,
   "id": "96982587",
   "metadata": {},
   "outputs": [
    {
     "data": {
      "text/html": [
       "<div>\n",
       "<style scoped>\n",
       "    .dataframe tbody tr th:only-of-type {\n",
       "        vertical-align: middle;\n",
       "    }\n",
       "\n",
       "    .dataframe tbody tr th {\n",
       "        vertical-align: top;\n",
       "    }\n",
       "\n",
       "    .dataframe thead th {\n",
       "        text-align: right;\n",
       "    }\n",
       "</style>\n",
       "<table border=\"1\" class=\"dataframe\">\n",
       "  <thead>\n",
       "    <tr style=\"text-align: right;\">\n",
       "      <th></th>\n",
       "      <th>PreferredLoginDevice</th>\n",
       "      <th>PreferredPaymentMode</th>\n",
       "      <th>Gender</th>\n",
       "      <th>PreferedOrderCat</th>\n",
       "      <th>MaritalStatus</th>\n",
       "    </tr>\n",
       "  </thead>\n",
       "  <tbody>\n",
       "    <tr>\n",
       "      <th>count</th>\n",
       "      <td>5630</td>\n",
       "      <td>5630</td>\n",
       "      <td>5630</td>\n",
       "      <td>5630</td>\n",
       "      <td>5630</td>\n",
       "    </tr>\n",
       "    <tr>\n",
       "      <th>unique</th>\n",
       "      <td>3</td>\n",
       "      <td>7</td>\n",
       "      <td>2</td>\n",
       "      <td>6</td>\n",
       "      <td>3</td>\n",
       "    </tr>\n",
       "    <tr>\n",
       "      <th>top</th>\n",
       "      <td>Mobile Phone</td>\n",
       "      <td>Debit Card</td>\n",
       "      <td>Male</td>\n",
       "      <td>Laptop &amp; Accessory</td>\n",
       "      <td>Married</td>\n",
       "    </tr>\n",
       "    <tr>\n",
       "      <th>freq</th>\n",
       "      <td>2765</td>\n",
       "      <td>2314</td>\n",
       "      <td>3384</td>\n",
       "      <td>2050</td>\n",
       "      <td>2986</td>\n",
       "    </tr>\n",
       "  </tbody>\n",
       "</table>\n",
       "</div>"
      ],
      "text/plain": [
       "       PreferredLoginDevice PreferredPaymentMode Gender    PreferedOrderCat  \\\n",
       "count                  5630                 5630   5630                5630   \n",
       "unique                    3                    7      2                   6   \n",
       "top            Mobile Phone           Debit Card   Male  Laptop & Accessory   \n",
       "freq                   2765                 2314   3384                2050   \n",
       "\n",
       "       MaritalStatus  \n",
       "count           5630  \n",
       "unique             3  \n",
       "top          Married  \n",
       "freq            2986  "
      ]
     },
     "execution_count": 10,
     "metadata": {},
     "output_type": "execute_result"
    }
   ],
   "source": [
    "df[cat_fea].describe()"
   ]
  },
  {
   "cell_type": "code",
   "execution_count": 11,
   "id": "3483312c",
   "metadata": {},
   "outputs": [],
   "source": [
    "# Change Phone -> Mobile Phone to remove data redundancy\n",
    "df['PreferredLoginDevice'] = df['PreferredLoginDevice'].replace({'Phone' : 'Mobile Phone'})"
   ]
  },
  {
   "cell_type": "code",
   "execution_count": 13,
   "id": "32cfc4c0",
   "metadata": {},
   "outputs": [],
   "source": [
    "# Change CC -> Credit Card & Cash on Delivery -> COD to eliminate data redundancy\n",
    "df['PreferredPaymentMode'] = df['PreferredPaymentMode'].replace({'CC' : 'Credit Card', 'Cash on Delivery' : 'COD'})"
   ]
  },
  {
   "cell_type": "markdown",
   "id": "bf9f3e8f",
   "metadata": {},
   "source": [
    "## Handling Null Values"
   ]
  },
  {
   "cell_type": "code",
   "execution_count": 14,
   "id": "add303c8",
   "metadata": {},
   "outputs": [],
   "source": [
    "df['Tenure'].fillna(df['Tenure'].median(), inplace=True)\n",
    "df['WarehouseToHome'].fillna(df['WarehouseToHome'].median(), inplace=True)\n",
    "df['HourSpendOnApp'].fillna(df['HourSpendOnApp'].median(), inplace=True)\n",
    "df['OrderAmountHikeFromlastYear'].fillna(df['OrderAmountHikeFromlastYear'].median(), inplace=True)\n",
    "df['CouponUsed'].fillna(df['CouponUsed'].median(), inplace=True)\n",
    "df['OrderCount'].fillna(df['OrderCount'].median(), inplace=True)\n",
    "df['DaySinceLastOrder'].fillna(df['DaySinceLastOrder'].median(), inplace=True)"
   ]
  },
  {
   "cell_type": "code",
   "execution_count": 15,
   "id": "f70e7e4b",
   "metadata": {},
   "outputs": [
    {
     "data": {
      "text/plain": [
       "CustomerID                     0\n",
       "Churn                          0\n",
       "Tenure                         0\n",
       "PreferredLoginDevice           0\n",
       "CityTier                       0\n",
       "WarehouseToHome                0\n",
       "PreferredPaymentMode           0\n",
       "Gender                         0\n",
       "HourSpendOnApp                 0\n",
       "NumberOfDeviceRegistered       0\n",
       "PreferedOrderCat               0\n",
       "SatisfactionScore              0\n",
       "MaritalStatus                  0\n",
       "NumberOfAddress                0\n",
       "Complain                       0\n",
       "OrderAmountHikeFromlastYear    0\n",
       "CouponUsed                     0\n",
       "OrderCount                     0\n",
       "DaySinceLastOrder              0\n",
       "CashbackAmount                 0\n",
       "dtype: int64"
      ]
     },
     "execution_count": 15,
     "metadata": {},
     "output_type": "execute_result"
    }
   ],
   "source": [
    "#Checking again whether the data imputation was successful\n",
    "df.isna().sum()"
   ]
  },
  {
   "cell_type": "markdown",
   "id": "c1249889",
   "metadata": {},
   "source": [
    "## Handling Duplicated Data"
   ]
  },
  {
   "cell_type": "code",
   "execution_count": 16,
   "id": "99ee05e8",
   "metadata": {},
   "outputs": [
    {
     "data": {
      "text/html": [
       "<div>\n",
       "<style scoped>\n",
       "    .dataframe tbody tr th:only-of-type {\n",
       "        vertical-align: middle;\n",
       "    }\n",
       "\n",
       "    .dataframe tbody tr th {\n",
       "        vertical-align: top;\n",
       "    }\n",
       "\n",
       "    .dataframe thead th {\n",
       "        text-align: right;\n",
       "    }\n",
       "</style>\n",
       "<table border=\"1\" class=\"dataframe\">\n",
       "  <thead>\n",
       "    <tr style=\"text-align: right;\">\n",
       "      <th></th>\n",
       "      <th>CustomerID</th>\n",
       "      <th>Churn</th>\n",
       "      <th>Tenure</th>\n",
       "      <th>PreferredLoginDevice</th>\n",
       "      <th>CityTier</th>\n",
       "      <th>WarehouseToHome</th>\n",
       "      <th>PreferredPaymentMode</th>\n",
       "      <th>Gender</th>\n",
       "      <th>HourSpendOnApp</th>\n",
       "      <th>NumberOfDeviceRegistered</th>\n",
       "      <th>PreferedOrderCat</th>\n",
       "      <th>SatisfactionScore</th>\n",
       "      <th>MaritalStatus</th>\n",
       "      <th>NumberOfAddress</th>\n",
       "      <th>Complain</th>\n",
       "      <th>OrderAmountHikeFromlastYear</th>\n",
       "      <th>CouponUsed</th>\n",
       "      <th>OrderCount</th>\n",
       "      <th>DaySinceLastOrder</th>\n",
       "      <th>CashbackAmount</th>\n",
       "    </tr>\n",
       "  </thead>\n",
       "  <tbody>\n",
       "    <tr>\n",
       "      <th>0</th>\n",
       "      <td>50001</td>\n",
       "      <td>1</td>\n",
       "      <td>4.0</td>\n",
       "      <td>Mobile Phone</td>\n",
       "      <td>3</td>\n",
       "      <td>6.0</td>\n",
       "      <td>Debit Card</td>\n",
       "      <td>Female</td>\n",
       "      <td>3.0</td>\n",
       "      <td>3</td>\n",
       "      <td>Laptop &amp; Accessory</td>\n",
       "      <td>2</td>\n",
       "      <td>Single</td>\n",
       "      <td>9</td>\n",
       "      <td>1</td>\n",
       "      <td>11.0</td>\n",
       "      <td>1.0</td>\n",
       "      <td>1.0</td>\n",
       "      <td>5.0</td>\n",
       "      <td>159.93</td>\n",
       "    </tr>\n",
       "    <tr>\n",
       "      <th>1</th>\n",
       "      <td>50002</td>\n",
       "      <td>1</td>\n",
       "      <td>9.0</td>\n",
       "      <td>Mobile Phone</td>\n",
       "      <td>1</td>\n",
       "      <td>8.0</td>\n",
       "      <td>UPI</td>\n",
       "      <td>Male</td>\n",
       "      <td>3.0</td>\n",
       "      <td>4</td>\n",
       "      <td>Mobile</td>\n",
       "      <td>3</td>\n",
       "      <td>Single</td>\n",
       "      <td>7</td>\n",
       "      <td>1</td>\n",
       "      <td>15.0</td>\n",
       "      <td>0.0</td>\n",
       "      <td>1.0</td>\n",
       "      <td>0.0</td>\n",
       "      <td>120.90</td>\n",
       "    </tr>\n",
       "    <tr>\n",
       "      <th>2</th>\n",
       "      <td>50003</td>\n",
       "      <td>1</td>\n",
       "      <td>9.0</td>\n",
       "      <td>Mobile Phone</td>\n",
       "      <td>1</td>\n",
       "      <td>30.0</td>\n",
       "      <td>Debit Card</td>\n",
       "      <td>Male</td>\n",
       "      <td>2.0</td>\n",
       "      <td>4</td>\n",
       "      <td>Mobile</td>\n",
       "      <td>3</td>\n",
       "      <td>Single</td>\n",
       "      <td>6</td>\n",
       "      <td>1</td>\n",
       "      <td>14.0</td>\n",
       "      <td>0.0</td>\n",
       "      <td>1.0</td>\n",
       "      <td>3.0</td>\n",
       "      <td>120.28</td>\n",
       "    </tr>\n",
       "    <tr>\n",
       "      <th>3</th>\n",
       "      <td>50004</td>\n",
       "      <td>1</td>\n",
       "      <td>0.0</td>\n",
       "      <td>Mobile Phone</td>\n",
       "      <td>3</td>\n",
       "      <td>15.0</td>\n",
       "      <td>Debit Card</td>\n",
       "      <td>Male</td>\n",
       "      <td>2.0</td>\n",
       "      <td>4</td>\n",
       "      <td>Laptop &amp; Accessory</td>\n",
       "      <td>5</td>\n",
       "      <td>Single</td>\n",
       "      <td>8</td>\n",
       "      <td>0</td>\n",
       "      <td>23.0</td>\n",
       "      <td>0.0</td>\n",
       "      <td>1.0</td>\n",
       "      <td>3.0</td>\n",
       "      <td>134.07</td>\n",
       "    </tr>\n",
       "    <tr>\n",
       "      <th>4</th>\n",
       "      <td>50005</td>\n",
       "      <td>1</td>\n",
       "      <td>0.0</td>\n",
       "      <td>Mobile Phone</td>\n",
       "      <td>1</td>\n",
       "      <td>12.0</td>\n",
       "      <td>Credit Card</td>\n",
       "      <td>Male</td>\n",
       "      <td>3.0</td>\n",
       "      <td>3</td>\n",
       "      <td>Mobile</td>\n",
       "      <td>5</td>\n",
       "      <td>Single</td>\n",
       "      <td>3</td>\n",
       "      <td>0</td>\n",
       "      <td>11.0</td>\n",
       "      <td>1.0</td>\n",
       "      <td>1.0</td>\n",
       "      <td>3.0</td>\n",
       "      <td>129.60</td>\n",
       "    </tr>\n",
       "  </tbody>\n",
       "</table>\n",
       "</div>"
      ],
      "text/plain": [
       "   CustomerID  Churn  Tenure PreferredLoginDevice  CityTier  WarehouseToHome  \\\n",
       "0       50001      1     4.0         Mobile Phone         3              6.0   \n",
       "1       50002      1     9.0         Mobile Phone         1              8.0   \n",
       "2       50003      1     9.0         Mobile Phone         1             30.0   \n",
       "3       50004      1     0.0         Mobile Phone         3             15.0   \n",
       "4       50005      1     0.0         Mobile Phone         1             12.0   \n",
       "\n",
       "  PreferredPaymentMode  Gender  HourSpendOnApp  NumberOfDeviceRegistered  \\\n",
       "0           Debit Card  Female             3.0                         3   \n",
       "1                  UPI    Male             3.0                         4   \n",
       "2           Debit Card    Male             2.0                         4   \n",
       "3           Debit Card    Male             2.0                         4   \n",
       "4          Credit Card    Male             3.0                         3   \n",
       "\n",
       "     PreferedOrderCat  SatisfactionScore MaritalStatus  NumberOfAddress  \\\n",
       "0  Laptop & Accessory                  2        Single                9   \n",
       "1              Mobile                  3        Single                7   \n",
       "2              Mobile                  3        Single                6   \n",
       "3  Laptop & Accessory                  5        Single                8   \n",
       "4              Mobile                  5        Single                3   \n",
       "\n",
       "   Complain  OrderAmountHikeFromlastYear  CouponUsed  OrderCount  \\\n",
       "0         1                         11.0         1.0         1.0   \n",
       "1         1                         15.0         0.0         1.0   \n",
       "2         1                         14.0         0.0         1.0   \n",
       "3         0                         23.0         0.0         1.0   \n",
       "4         0                         11.0         1.0         1.0   \n",
       "\n",
       "   DaySinceLastOrder  CashbackAmount  \n",
       "0                5.0          159.93  \n",
       "1                0.0          120.90  \n",
       "2                3.0          120.28  \n",
       "3                3.0          134.07  \n",
       "4                3.0          129.60  "
      ]
     },
     "execution_count": 16,
     "metadata": {},
     "output_type": "execute_result"
    }
   ],
   "source": [
    "df.head()"
   ]
  },
  {
   "cell_type": "code",
   "execution_count": 17,
   "id": "cd1b8113",
   "metadata": {},
   "outputs": [
    {
     "data": {
      "text/plain": [
       "0"
      ]
     },
     "execution_count": 17,
     "metadata": {},
     "output_type": "execute_result"
    }
   ],
   "source": [
    "df.duplicated().sum()"
   ]
  },
  {
   "cell_type": "markdown",
   "id": "456cabba",
   "metadata": {},
   "source": [
    "No duplicate data Found"
   ]
  },
  {
   "cell_type": "markdown",
   "id": "da8f8db5",
   "metadata": {},
   "source": [
    "## Outlier Handling"
   ]
  },
  {
   "cell_type": "code",
   "execution_count": 18,
   "id": "a4d29b1a",
   "metadata": {},
   "outputs": [],
   "source": [
    "from scipy import stats"
   ]
  },
  {
   "cell_type": "code",
   "execution_count": 19,
   "id": "ed175e3e",
   "metadata": {},
   "outputs": [
    {
     "name": "stdout",
     "output_type": "stream",
     "text": [
      "Number of rows before filtering outliers : 5630\n",
      "Number of rows after filtering outliers : 5619\n"
     ]
    }
   ],
   "source": [
    "print(f'Number of rows before filtering outliers : {len(df)}')\n",
    "\n",
    "filtered_entries = np.array ([True] * len(df))\n",
    "\n",
    "for col in ['Tenure', 'WarehouseToHome', 'CouponUsed', 'DaySinceLastOrder', 'CashbackAmount']:\n",
    "  zscore = abs(stats.zscore(df[col]))\n",
    "  filtered_entries = (zscore < 3)\n",
    "\n",
    "df = df[filtered_entries]\n",
    "print(f'Number of rows after filtering outliers : {len(df)}')"
   ]
  },
  {
   "cell_type": "markdown",
   "id": "b7eabcc0",
   "metadata": {},
   "source": [
    "## Feature Engineeing"
   ]
  },
  {
   "cell_type": "code",
   "execution_count": 20,
   "id": "4c54e048",
   "metadata": {},
   "outputs": [],
   "source": [
    "mapping_gender = {'Female' : 0,'Male' : 1}\n",
    "\n",
    "\n",
    "df['Gender'] = df['Gender'].map(mapping_gender)"
   ]
  },
  {
   "cell_type": "code",
   "execution_count": 21,
   "id": "9a5d556d",
   "metadata": {},
   "outputs": [],
   "source": [
    "for cat in ['PreferredLoginDevice','PreferredPaymentMode','PreferedOrderCat','MaritalStatus']:\n",
    "  onehots = pd.get_dummies(df[cat], prefix=cat)\n",
    "  df = df.join(onehots)"
   ]
  },
  {
   "cell_type": "code",
   "execution_count": 22,
   "id": "99208a8c",
   "metadata": {},
   "outputs": [],
   "source": [
    "#drop the original category column (as it is encoded)\n",
    "df = df.drop(columns=['PreferredLoginDevice','PreferredPaymentMode','PreferedOrderCat','MaritalStatus']).copy()"
   ]
  },
  {
   "cell_type": "code",
   "execution_count": 23,
   "id": "ab11c5d8",
   "metadata": {
    "scrolled": true
   },
   "outputs": [
    {
     "name": "stdout",
     "output_type": "stream",
     "text": [
      "<class 'pandas.core.frame.DataFrame'>\n",
      "Int64Index: 5619 entries, 0 to 5629\n",
      "Data columns (total 32 columns):\n",
      " #   Column                               Non-Null Count  Dtype  \n",
      "---  ------                               --------------  -----  \n",
      " 0   CustomerID                           5619 non-null   int64  \n",
      " 1   Churn                                5619 non-null   int64  \n",
      " 2   Tenure                               5619 non-null   float64\n",
      " 3   CityTier                             5619 non-null   int64  \n",
      " 4   WarehouseToHome                      5619 non-null   float64\n",
      " 5   Gender                               5619 non-null   int64  \n",
      " 6   HourSpendOnApp                       5619 non-null   float64\n",
      " 7   NumberOfDeviceRegistered             5619 non-null   int64  \n",
      " 8   SatisfactionScore                    5619 non-null   int64  \n",
      " 9   NumberOfAddress                      5619 non-null   int64  \n",
      " 10  Complain                             5619 non-null   int64  \n",
      " 11  OrderAmountHikeFromlastYear          5619 non-null   float64\n",
      " 12  CouponUsed                           5619 non-null   float64\n",
      " 13  OrderCount                           5619 non-null   float64\n",
      " 14  DaySinceLastOrder                    5619 non-null   float64\n",
      " 15  CashbackAmount                       5619 non-null   float64\n",
      " 16  PreferredLoginDevice_Computer        5619 non-null   uint8  \n",
      " 17  PreferredLoginDevice_Mobile Phone    5619 non-null   uint8  \n",
      " 18  PreferredPaymentMode_COD             5619 non-null   uint8  \n",
      " 19  PreferredPaymentMode_Credit Card     5619 non-null   uint8  \n",
      " 20  PreferredPaymentMode_Debit Card      5619 non-null   uint8  \n",
      " 21  PreferredPaymentMode_E wallet        5619 non-null   uint8  \n",
      " 22  PreferredPaymentMode_UPI             5619 non-null   uint8  \n",
      " 23  PreferedOrderCat_Fashion             5619 non-null   uint8  \n",
      " 24  PreferedOrderCat_Grocery             5619 non-null   uint8  \n",
      " 25  PreferedOrderCat_Laptop & Accessory  5619 non-null   uint8  \n",
      " 26  PreferedOrderCat_Mobile              5619 non-null   uint8  \n",
      " 27  PreferedOrderCat_Mobile Phone        5619 non-null   uint8  \n",
      " 28  PreferedOrderCat_Others              5619 non-null   uint8  \n",
      " 29  MaritalStatus_Divorced               5619 non-null   uint8  \n",
      " 30  MaritalStatus_Married                5619 non-null   uint8  \n",
      " 31  MaritalStatus_Single                 5619 non-null   uint8  \n",
      "dtypes: float64(8), int64(8), uint8(16)\n",
      "memory usage: 963.1 KB\n"
     ]
    }
   ],
   "source": [
    "df.info()"
   ]
  },
  {
   "cell_type": "code",
   "execution_count": 24,
   "id": "98d4280e",
   "metadata": {},
   "outputs": [
    {
     "data": {
      "text/html": [
       "<div>\n",
       "<style scoped>\n",
       "    .dataframe tbody tr th:only-of-type {\n",
       "        vertical-align: middle;\n",
       "    }\n",
       "\n",
       "    .dataframe tbody tr th {\n",
       "        vertical-align: top;\n",
       "    }\n",
       "\n",
       "    .dataframe thead th {\n",
       "        text-align: right;\n",
       "    }\n",
       "</style>\n",
       "<table border=\"1\" class=\"dataframe\">\n",
       "  <thead>\n",
       "    <tr style=\"text-align: right;\">\n",
       "      <th></th>\n",
       "      <th>CustomerID</th>\n",
       "      <th>Churn</th>\n",
       "      <th>Tenure</th>\n",
       "      <th>CityTier</th>\n",
       "      <th>WarehouseToHome</th>\n",
       "      <th>Gender</th>\n",
       "      <th>HourSpendOnApp</th>\n",
       "      <th>NumberOfDeviceRegistered</th>\n",
       "      <th>SatisfactionScore</th>\n",
       "      <th>NumberOfAddress</th>\n",
       "      <th>...</th>\n",
       "      <th>PreferredPaymentMode_UPI</th>\n",
       "      <th>PreferedOrderCat_Fashion</th>\n",
       "      <th>PreferedOrderCat_Grocery</th>\n",
       "      <th>PreferedOrderCat_Laptop &amp; Accessory</th>\n",
       "      <th>PreferedOrderCat_Mobile</th>\n",
       "      <th>PreferedOrderCat_Mobile Phone</th>\n",
       "      <th>PreferedOrderCat_Others</th>\n",
       "      <th>MaritalStatus_Divorced</th>\n",
       "      <th>MaritalStatus_Married</th>\n",
       "      <th>MaritalStatus_Single</th>\n",
       "    </tr>\n",
       "  </thead>\n",
       "  <tbody>\n",
       "    <tr>\n",
       "      <th>0</th>\n",
       "      <td>50001</td>\n",
       "      <td>1</td>\n",
       "      <td>4.0</td>\n",
       "      <td>3</td>\n",
       "      <td>6.0</td>\n",
       "      <td>0</td>\n",
       "      <td>3.0</td>\n",
       "      <td>3</td>\n",
       "      <td>2</td>\n",
       "      <td>9</td>\n",
       "      <td>...</td>\n",
       "      <td>0</td>\n",
       "      <td>0</td>\n",
       "      <td>0</td>\n",
       "      <td>1</td>\n",
       "      <td>0</td>\n",
       "      <td>0</td>\n",
       "      <td>0</td>\n",
       "      <td>0</td>\n",
       "      <td>0</td>\n",
       "      <td>1</td>\n",
       "    </tr>\n",
       "    <tr>\n",
       "      <th>1</th>\n",
       "      <td>50002</td>\n",
       "      <td>1</td>\n",
       "      <td>9.0</td>\n",
       "      <td>1</td>\n",
       "      <td>8.0</td>\n",
       "      <td>1</td>\n",
       "      <td>3.0</td>\n",
       "      <td>4</td>\n",
       "      <td>3</td>\n",
       "      <td>7</td>\n",
       "      <td>...</td>\n",
       "      <td>1</td>\n",
       "      <td>0</td>\n",
       "      <td>0</td>\n",
       "      <td>0</td>\n",
       "      <td>1</td>\n",
       "      <td>0</td>\n",
       "      <td>0</td>\n",
       "      <td>0</td>\n",
       "      <td>0</td>\n",
       "      <td>1</td>\n",
       "    </tr>\n",
       "    <tr>\n",
       "      <th>2</th>\n",
       "      <td>50003</td>\n",
       "      <td>1</td>\n",
       "      <td>9.0</td>\n",
       "      <td>1</td>\n",
       "      <td>30.0</td>\n",
       "      <td>1</td>\n",
       "      <td>2.0</td>\n",
       "      <td>4</td>\n",
       "      <td>3</td>\n",
       "      <td>6</td>\n",
       "      <td>...</td>\n",
       "      <td>0</td>\n",
       "      <td>0</td>\n",
       "      <td>0</td>\n",
       "      <td>0</td>\n",
       "      <td>1</td>\n",
       "      <td>0</td>\n",
       "      <td>0</td>\n",
       "      <td>0</td>\n",
       "      <td>0</td>\n",
       "      <td>1</td>\n",
       "    </tr>\n",
       "    <tr>\n",
       "      <th>3</th>\n",
       "      <td>50004</td>\n",
       "      <td>1</td>\n",
       "      <td>0.0</td>\n",
       "      <td>3</td>\n",
       "      <td>15.0</td>\n",
       "      <td>1</td>\n",
       "      <td>2.0</td>\n",
       "      <td>4</td>\n",
       "      <td>5</td>\n",
       "      <td>8</td>\n",
       "      <td>...</td>\n",
       "      <td>0</td>\n",
       "      <td>0</td>\n",
       "      <td>0</td>\n",
       "      <td>1</td>\n",
       "      <td>0</td>\n",
       "      <td>0</td>\n",
       "      <td>0</td>\n",
       "      <td>0</td>\n",
       "      <td>0</td>\n",
       "      <td>1</td>\n",
       "    </tr>\n",
       "    <tr>\n",
       "      <th>4</th>\n",
       "      <td>50005</td>\n",
       "      <td>1</td>\n",
       "      <td>0.0</td>\n",
       "      <td>1</td>\n",
       "      <td>12.0</td>\n",
       "      <td>1</td>\n",
       "      <td>3.0</td>\n",
       "      <td>3</td>\n",
       "      <td>5</td>\n",
       "      <td>3</td>\n",
       "      <td>...</td>\n",
       "      <td>0</td>\n",
       "      <td>0</td>\n",
       "      <td>0</td>\n",
       "      <td>0</td>\n",
       "      <td>1</td>\n",
       "      <td>0</td>\n",
       "      <td>0</td>\n",
       "      <td>0</td>\n",
       "      <td>0</td>\n",
       "      <td>1</td>\n",
       "    </tr>\n",
       "    <tr>\n",
       "      <th>...</th>\n",
       "      <td>...</td>\n",
       "      <td>...</td>\n",
       "      <td>...</td>\n",
       "      <td>...</td>\n",
       "      <td>...</td>\n",
       "      <td>...</td>\n",
       "      <td>...</td>\n",
       "      <td>...</td>\n",
       "      <td>...</td>\n",
       "      <td>...</td>\n",
       "      <td>...</td>\n",
       "      <td>...</td>\n",
       "      <td>...</td>\n",
       "      <td>...</td>\n",
       "      <td>...</td>\n",
       "      <td>...</td>\n",
       "      <td>...</td>\n",
       "      <td>...</td>\n",
       "      <td>...</td>\n",
       "      <td>...</td>\n",
       "      <td>...</td>\n",
       "    </tr>\n",
       "    <tr>\n",
       "      <th>5625</th>\n",
       "      <td>55626</td>\n",
       "      <td>0</td>\n",
       "      <td>10.0</td>\n",
       "      <td>1</td>\n",
       "      <td>30.0</td>\n",
       "      <td>1</td>\n",
       "      <td>3.0</td>\n",
       "      <td>2</td>\n",
       "      <td>1</td>\n",
       "      <td>6</td>\n",
       "      <td>...</td>\n",
       "      <td>0</td>\n",
       "      <td>0</td>\n",
       "      <td>0</td>\n",
       "      <td>1</td>\n",
       "      <td>0</td>\n",
       "      <td>0</td>\n",
       "      <td>0</td>\n",
       "      <td>0</td>\n",
       "      <td>1</td>\n",
       "      <td>0</td>\n",
       "    </tr>\n",
       "    <tr>\n",
       "      <th>5626</th>\n",
       "      <td>55627</td>\n",
       "      <td>0</td>\n",
       "      <td>13.0</td>\n",
       "      <td>1</td>\n",
       "      <td>13.0</td>\n",
       "      <td>1</td>\n",
       "      <td>3.0</td>\n",
       "      <td>5</td>\n",
       "      <td>5</td>\n",
       "      <td>6</td>\n",
       "      <td>...</td>\n",
       "      <td>0</td>\n",
       "      <td>1</td>\n",
       "      <td>0</td>\n",
       "      <td>0</td>\n",
       "      <td>0</td>\n",
       "      <td>0</td>\n",
       "      <td>0</td>\n",
       "      <td>0</td>\n",
       "      <td>1</td>\n",
       "      <td>0</td>\n",
       "    </tr>\n",
       "    <tr>\n",
       "      <th>5627</th>\n",
       "      <td>55628</td>\n",
       "      <td>0</td>\n",
       "      <td>1.0</td>\n",
       "      <td>1</td>\n",
       "      <td>11.0</td>\n",
       "      <td>1</td>\n",
       "      <td>3.0</td>\n",
       "      <td>2</td>\n",
       "      <td>4</td>\n",
       "      <td>3</td>\n",
       "      <td>...</td>\n",
       "      <td>0</td>\n",
       "      <td>0</td>\n",
       "      <td>0</td>\n",
       "      <td>1</td>\n",
       "      <td>0</td>\n",
       "      <td>0</td>\n",
       "      <td>0</td>\n",
       "      <td>0</td>\n",
       "      <td>1</td>\n",
       "      <td>0</td>\n",
       "    </tr>\n",
       "    <tr>\n",
       "      <th>5628</th>\n",
       "      <td>55629</td>\n",
       "      <td>0</td>\n",
       "      <td>23.0</td>\n",
       "      <td>3</td>\n",
       "      <td>9.0</td>\n",
       "      <td>1</td>\n",
       "      <td>4.0</td>\n",
       "      <td>5</td>\n",
       "      <td>4</td>\n",
       "      <td>4</td>\n",
       "      <td>...</td>\n",
       "      <td>0</td>\n",
       "      <td>0</td>\n",
       "      <td>0</td>\n",
       "      <td>1</td>\n",
       "      <td>0</td>\n",
       "      <td>0</td>\n",
       "      <td>0</td>\n",
       "      <td>0</td>\n",
       "      <td>1</td>\n",
       "      <td>0</td>\n",
       "    </tr>\n",
       "    <tr>\n",
       "      <th>5629</th>\n",
       "      <td>55630</td>\n",
       "      <td>0</td>\n",
       "      <td>8.0</td>\n",
       "      <td>1</td>\n",
       "      <td>15.0</td>\n",
       "      <td>1</td>\n",
       "      <td>3.0</td>\n",
       "      <td>2</td>\n",
       "      <td>3</td>\n",
       "      <td>4</td>\n",
       "      <td>...</td>\n",
       "      <td>0</td>\n",
       "      <td>0</td>\n",
       "      <td>0</td>\n",
       "      <td>1</td>\n",
       "      <td>0</td>\n",
       "      <td>0</td>\n",
       "      <td>0</td>\n",
       "      <td>0</td>\n",
       "      <td>1</td>\n",
       "      <td>0</td>\n",
       "    </tr>\n",
       "  </tbody>\n",
       "</table>\n",
       "<p>5619 rows × 32 columns</p>\n",
       "</div>"
      ],
      "text/plain": [
       "      CustomerID  Churn  Tenure  CityTier  WarehouseToHome  Gender  \\\n",
       "0          50001      1     4.0         3              6.0       0   \n",
       "1          50002      1     9.0         1              8.0       1   \n",
       "2          50003      1     9.0         1             30.0       1   \n",
       "3          50004      1     0.0         3             15.0       1   \n",
       "4          50005      1     0.0         1             12.0       1   \n",
       "...          ...    ...     ...       ...              ...     ...   \n",
       "5625       55626      0    10.0         1             30.0       1   \n",
       "5626       55627      0    13.0         1             13.0       1   \n",
       "5627       55628      0     1.0         1             11.0       1   \n",
       "5628       55629      0    23.0         3              9.0       1   \n",
       "5629       55630      0     8.0         1             15.0       1   \n",
       "\n",
       "      HourSpendOnApp  NumberOfDeviceRegistered  SatisfactionScore  \\\n",
       "0                3.0                         3                  2   \n",
       "1                3.0                         4                  3   \n",
       "2                2.0                         4                  3   \n",
       "3                2.0                         4                  5   \n",
       "4                3.0                         3                  5   \n",
       "...              ...                       ...                ...   \n",
       "5625             3.0                         2                  1   \n",
       "5626             3.0                         5                  5   \n",
       "5627             3.0                         2                  4   \n",
       "5628             4.0                         5                  4   \n",
       "5629             3.0                         2                  3   \n",
       "\n",
       "      NumberOfAddress  ...  PreferredPaymentMode_UPI  \\\n",
       "0                   9  ...                         0   \n",
       "1                   7  ...                         1   \n",
       "2                   6  ...                         0   \n",
       "3                   8  ...                         0   \n",
       "4                   3  ...                         0   \n",
       "...               ...  ...                       ...   \n",
       "5625                6  ...                         0   \n",
       "5626                6  ...                         0   \n",
       "5627                3  ...                         0   \n",
       "5628                4  ...                         0   \n",
       "5629                4  ...                         0   \n",
       "\n",
       "      PreferedOrderCat_Fashion  PreferedOrderCat_Grocery  \\\n",
       "0                            0                         0   \n",
       "1                            0                         0   \n",
       "2                            0                         0   \n",
       "3                            0                         0   \n",
       "4                            0                         0   \n",
       "...                        ...                       ...   \n",
       "5625                         0                         0   \n",
       "5626                         1                         0   \n",
       "5627                         0                         0   \n",
       "5628                         0                         0   \n",
       "5629                         0                         0   \n",
       "\n",
       "      PreferedOrderCat_Laptop & Accessory  PreferedOrderCat_Mobile  \\\n",
       "0                                       1                        0   \n",
       "1                                       0                        1   \n",
       "2                                       0                        1   \n",
       "3                                       1                        0   \n",
       "4                                       0                        1   \n",
       "...                                   ...                      ...   \n",
       "5625                                    1                        0   \n",
       "5626                                    0                        0   \n",
       "5627                                    1                        0   \n",
       "5628                                    1                        0   \n",
       "5629                                    1                        0   \n",
       "\n",
       "      PreferedOrderCat_Mobile Phone  PreferedOrderCat_Others  \\\n",
       "0                                 0                        0   \n",
       "1                                 0                        0   \n",
       "2                                 0                        0   \n",
       "3                                 0                        0   \n",
       "4                                 0                        0   \n",
       "...                             ...                      ...   \n",
       "5625                              0                        0   \n",
       "5626                              0                        0   \n",
       "5627                              0                        0   \n",
       "5628                              0                        0   \n",
       "5629                              0                        0   \n",
       "\n",
       "      MaritalStatus_Divorced  MaritalStatus_Married  MaritalStatus_Single  \n",
       "0                          0                      0                     1  \n",
       "1                          0                      0                     1  \n",
       "2                          0                      0                     1  \n",
       "3                          0                      0                     1  \n",
       "4                          0                      0                     1  \n",
       "...                      ...                    ...                   ...  \n",
       "5625                       0                      1                     0  \n",
       "5626                       0                      1                     0  \n",
       "5627                       0                      1                     0  \n",
       "5628                       0                      1                     0  \n",
       "5629                       0                      1                     0  \n",
       "\n",
       "[5619 rows x 32 columns]"
      ]
     },
     "execution_count": 24,
     "metadata": {},
     "output_type": "execute_result"
    }
   ],
   "source": [
    "df"
   ]
  },
  {
   "cell_type": "markdown",
   "id": "fbd6c392",
   "metadata": {},
   "source": [
    "## Feature Transformation"
   ]
  },
  {
   "cell_type": "code",
   "execution_count": 25,
   "id": "65a44e3a",
   "metadata": {},
   "outputs": [],
   "source": [
    "from scipy.stats import skew, kurtosis"
   ]
  },
  {
   "cell_type": "code",
   "execution_count": 28,
   "id": "d49d6003",
   "metadata": {},
   "outputs": [
    {
     "name": "stdout",
     "output_type": "stream",
     "text": [
      "Distribution Normal: ['Tenure', 'CityTier', 'HourSpendOnApp', 'NumberOfDeviceRegistered', 'SatisfactionScore', 'NumberOfAddress', 'Complain', 'OrderAmountHikeFromlastYear', 'CashbackAmount']\n",
      "Distribution Non Normal: ['WarehouseToHome', 'CouponUsed', 'OrderCount', 'DaySinceLastOrder']\n"
     ]
    }
   ],
   "source": [
    "feature_trans = num_fea.copy()\n",
    "del feature_trans[:2]\n",
    "feature_normal = []\n",
    "feature_non_normal = []\n",
    "\n",
    "for i in feature_trans:\n",
    "  skw = skew(df[i])\n",
    "  kts = kurtosis(df[i])\n",
    "  if skw < 2 and skw > -2:\n",
    "    if kts < 2 and kts > -2:\n",
    "      feature_normal.append(i)\n",
    "    else:\n",
    "      feature_non_normal.append(i)\n",
    "  else:\n",
    "    feature_non_normal.append(i)\n",
    "\n",
    "print('Distribution Normal:', feature_normal)\n",
    "print('Distribution Non Normal:', feature_non_normal)"
   ]
  },
  {
   "cell_type": "code",
   "execution_count": 29,
   "id": "29b6d3a3",
   "metadata": {},
   "outputs": [],
   "source": [
    "from sklearn.model_selection import train_test_split"
   ]
  },
  {
   "cell_type": "code",
   "execution_count": 31,
   "id": "9d54dfa8",
   "metadata": {},
   "outputs": [
    {
     "data": {
      "text/plain": [
       "['Tenure',\n",
       " 'CityTier',\n",
       " 'WarehouseToHome',\n",
       " 'Gender',\n",
       " 'HourSpendOnApp',\n",
       " 'NumberOfDeviceRegistered',\n",
       " 'SatisfactionScore',\n",
       " 'NumberOfAddress',\n",
       " 'Complain',\n",
       " 'OrderAmountHikeFromlastYear',\n",
       " 'CouponUsed',\n",
       " 'OrderCount',\n",
       " 'DaySinceLastOrder',\n",
       " 'CashbackAmount',\n",
       " 'PreferredLoginDevice_Computer',\n",
       " 'PreferredLoginDevice_Mobile Phone',\n",
       " 'PreferredPaymentMode_COD',\n",
       " 'PreferredPaymentMode_Credit Card',\n",
       " 'PreferredPaymentMode_Debit Card',\n",
       " 'PreferredPaymentMode_E wallet',\n",
       " 'PreferredPaymentMode_UPI',\n",
       " 'PreferedOrderCat_Fashion',\n",
       " 'PreferedOrderCat_Grocery',\n",
       " 'PreferedOrderCat_Laptop & Accessory',\n",
       " 'PreferedOrderCat_Mobile',\n",
       " 'PreferedOrderCat_Mobile Phone',\n",
       " 'PreferedOrderCat_Others',\n",
       " 'MaritalStatus_Divorced',\n",
       " 'MaritalStatus_Married',\n",
       " 'MaritalStatus_Single']"
      ]
     },
     "execution_count": 31,
     "metadata": {},
     "output_type": "execute_result"
    }
   ],
   "source": [
    "feature = df.columns.tolist()\n",
    "del feature[:2]\n",
    "feature"
   ]
  },
  {
   "cell_type": "code",
   "execution_count": 34,
   "id": "afa6a5d2",
   "metadata": {},
   "outputs": [],
   "source": [
    "# Split Data into Train & Test"
   ]
  },
  {
   "cell_type": "code",
   "execution_count": 33,
   "id": "c65ac201",
   "metadata": {},
   "outputs": [],
   "source": [
    "transform = feature_normal + feature_non_normal\n",
    "X = df[feature]\n",
    "y = df['Churn']\n",
    "\n",
    "X_train, X_test, y_train, y_test = train_test_split(X, y, test_size=0.3, random_state=3)"
   ]
  },
  {
   "cell_type": "code",
   "execution_count": 35,
   "id": "cbd7a2c3",
   "metadata": {},
   "outputs": [],
   "source": [
    "from sklearn.preprocessing import StandardScaler"
   ]
  },
  {
   "cell_type": "code",
   "execution_count": 36,
   "id": "aaf87cfc",
   "metadata": {},
   "outputs": [
    {
     "data": {
      "text/html": [
       "<div>\n",
       "<style scoped>\n",
       "    .dataframe tbody tr th:only-of-type {\n",
       "        vertical-align: middle;\n",
       "    }\n",
       "\n",
       "    .dataframe tbody tr th {\n",
       "        vertical-align: top;\n",
       "    }\n",
       "\n",
       "    .dataframe thead th {\n",
       "        text-align: right;\n",
       "    }\n",
       "</style>\n",
       "<table border=\"1\" class=\"dataframe\">\n",
       "  <thead>\n",
       "    <tr style=\"text-align: right;\">\n",
       "      <th></th>\n",
       "      <th>Tenure</th>\n",
       "      <th>CityTier</th>\n",
       "      <th>WarehouseToHome</th>\n",
       "      <th>Gender</th>\n",
       "      <th>HourSpendOnApp</th>\n",
       "      <th>NumberOfDeviceRegistered</th>\n",
       "      <th>SatisfactionScore</th>\n",
       "      <th>NumberOfAddress</th>\n",
       "      <th>Complain</th>\n",
       "      <th>OrderAmountHikeFromlastYear</th>\n",
       "      <th>...</th>\n",
       "      <th>PreferredPaymentMode_UPI</th>\n",
       "      <th>PreferedOrderCat_Fashion</th>\n",
       "      <th>PreferedOrderCat_Grocery</th>\n",
       "      <th>PreferedOrderCat_Laptop &amp; Accessory</th>\n",
       "      <th>PreferedOrderCat_Mobile</th>\n",
       "      <th>PreferedOrderCat_Mobile Phone</th>\n",
       "      <th>PreferedOrderCat_Others</th>\n",
       "      <th>MaritalStatus_Divorced</th>\n",
       "      <th>MaritalStatus_Married</th>\n",
       "      <th>MaritalStatus_Single</th>\n",
       "    </tr>\n",
       "  </thead>\n",
       "  <tbody>\n",
       "    <tr>\n",
       "      <th>3924</th>\n",
       "      <td>1.306801</td>\n",
       "      <td>1.500520</td>\n",
       "      <td>-0.779734</td>\n",
       "      <td>1</td>\n",
       "      <td>0.084913</td>\n",
       "      <td>0.306939</td>\n",
       "      <td>0.668818</td>\n",
       "      <td>1.862855</td>\n",
       "      <td>-0.622729</td>\n",
       "      <td>-1.018592</td>\n",
       "      <td>...</td>\n",
       "      <td>0</td>\n",
       "      <td>0</td>\n",
       "      <td>0</td>\n",
       "      <td>1</td>\n",
       "      <td>0</td>\n",
       "      <td>0</td>\n",
       "      <td>0</td>\n",
       "      <td>0</td>\n",
       "      <td>1</td>\n",
       "      <td>0</td>\n",
       "    </tr>\n",
       "    <tr>\n",
       "      <th>2198</th>\n",
       "      <td>-1.209991</td>\n",
       "      <td>-0.701138</td>\n",
       "      <td>-0.191320</td>\n",
       "      <td>1</td>\n",
       "      <td>-1.324215</td>\n",
       "      <td>-0.668175</td>\n",
       "      <td>1.389097</td>\n",
       "      <td>-0.845974</td>\n",
       "      <td>-0.622729</td>\n",
       "      <td>2.584036</td>\n",
       "      <td>...</td>\n",
       "      <td>0</td>\n",
       "      <td>0</td>\n",
       "      <td>0</td>\n",
       "      <td>0</td>\n",
       "      <td>1</td>\n",
       "      <td>0</td>\n",
       "      <td>0</td>\n",
       "      <td>0</td>\n",
       "      <td>0</td>\n",
       "      <td>1</td>\n",
       "    </tr>\n",
       "    <tr>\n",
       "      <th>5349</th>\n",
       "      <td>-0.371060</td>\n",
       "      <td>1.500520</td>\n",
       "      <td>-0.779734</td>\n",
       "      <td>1</td>\n",
       "      <td>1.494042</td>\n",
       "      <td>0.306939</td>\n",
       "      <td>-1.492020</td>\n",
       "      <td>-0.458998</td>\n",
       "      <td>-0.622729</td>\n",
       "      <td>-0.187216</td>\n",
       "      <td>...</td>\n",
       "      <td>0</td>\n",
       "      <td>0</td>\n",
       "      <td>0</td>\n",
       "      <td>1</td>\n",
       "      <td>0</td>\n",
       "      <td>0</td>\n",
       "      <td>0</td>\n",
       "      <td>0</td>\n",
       "      <td>1</td>\n",
       "      <td>0</td>\n",
       "    </tr>\n",
       "    <tr>\n",
       "      <th>1337</th>\n",
       "      <td>0.228176</td>\n",
       "      <td>1.500520</td>\n",
       "      <td>1.691603</td>\n",
       "      <td>0</td>\n",
       "      <td>-1.324215</td>\n",
       "      <td>0.306939</td>\n",
       "      <td>-1.492020</td>\n",
       "      <td>-1.232950</td>\n",
       "      <td>-0.622729</td>\n",
       "      <td>-1.295717</td>\n",
       "      <td>...</td>\n",
       "      <td>0</td>\n",
       "      <td>0</td>\n",
       "      <td>1</td>\n",
       "      <td>0</td>\n",
       "      <td>0</td>\n",
       "      <td>0</td>\n",
       "      <td>0</td>\n",
       "      <td>0</td>\n",
       "      <td>1</td>\n",
       "      <td>0</td>\n",
       "    </tr>\n",
       "    <tr>\n",
       "      <th>1486</th>\n",
       "      <td>0.947259</td>\n",
       "      <td>-0.701138</td>\n",
       "      <td>2.280017</td>\n",
       "      <td>1</td>\n",
       "      <td>-1.324215</td>\n",
       "      <td>-0.668175</td>\n",
       "      <td>-1.492020</td>\n",
       "      <td>0.701928</td>\n",
       "      <td>-0.622729</td>\n",
       "      <td>-0.741467</td>\n",
       "      <td>...</td>\n",
       "      <td>0</td>\n",
       "      <td>0</td>\n",
       "      <td>0</td>\n",
       "      <td>0</td>\n",
       "      <td>1</td>\n",
       "      <td>0</td>\n",
       "      <td>0</td>\n",
       "      <td>0</td>\n",
       "      <td>0</td>\n",
       "      <td>1</td>\n",
       "    </tr>\n",
       "  </tbody>\n",
       "</table>\n",
       "<p>5 rows × 30 columns</p>\n",
       "</div>"
      ],
      "text/plain": [
       "        Tenure  CityTier  WarehouseToHome  Gender  HourSpendOnApp  \\\n",
       "3924  1.306801  1.500520        -0.779734       1        0.084913   \n",
       "2198 -1.209991 -0.701138        -0.191320       1       -1.324215   \n",
       "5349 -0.371060  1.500520        -0.779734       1        1.494042   \n",
       "1337  0.228176  1.500520         1.691603       0       -1.324215   \n",
       "1486  0.947259 -0.701138         2.280017       1       -1.324215   \n",
       "\n",
       "      NumberOfDeviceRegistered  SatisfactionScore  NumberOfAddress  Complain  \\\n",
       "3924                  0.306939           0.668818         1.862855 -0.622729   \n",
       "2198                 -0.668175           1.389097        -0.845974 -0.622729   \n",
       "5349                  0.306939          -1.492020        -0.458998 -0.622729   \n",
       "1337                  0.306939          -1.492020        -1.232950 -0.622729   \n",
       "1486                 -0.668175          -1.492020         0.701928 -0.622729   \n",
       "\n",
       "      OrderAmountHikeFromlastYear  ...  PreferredPaymentMode_UPI  \\\n",
       "3924                    -1.018592  ...                         0   \n",
       "2198                     2.584036  ...                         0   \n",
       "5349                    -0.187216  ...                         0   \n",
       "1337                    -1.295717  ...                         0   \n",
       "1486                    -0.741467  ...                         0   \n",
       "\n",
       "      PreferedOrderCat_Fashion  PreferedOrderCat_Grocery  \\\n",
       "3924                         0                         0   \n",
       "2198                         0                         0   \n",
       "5349                         0                         0   \n",
       "1337                         0                         1   \n",
       "1486                         0                         0   \n",
       "\n",
       "      PreferedOrderCat_Laptop & Accessory  PreferedOrderCat_Mobile  \\\n",
       "3924                                    1                        0   \n",
       "2198                                    0                        1   \n",
       "5349                                    1                        0   \n",
       "1337                                    0                        0   \n",
       "1486                                    0                        1   \n",
       "\n",
       "      PreferedOrderCat_Mobile Phone  PreferedOrderCat_Others  \\\n",
       "3924                              0                        0   \n",
       "2198                              0                        0   \n",
       "5349                              0                        0   \n",
       "1337                              0                        0   \n",
       "1486                              0                        0   \n",
       "\n",
       "      MaritalStatus_Divorced  MaritalStatus_Married  MaritalStatus_Single  \n",
       "3924                       0                      1                     0  \n",
       "2198                       0                      0                     1  \n",
       "5349                       0                      1                     0  \n",
       "1337                       0                      1                     0  \n",
       "1486                       0                      0                     1  \n",
       "\n",
       "[5 rows x 30 columns]"
      ]
     },
     "execution_count": 36,
     "metadata": {},
     "output_type": "execute_result"
    }
   ],
   "source": [
    "for i in transform:\n",
    "  scaler = StandardScaler().fit(X_train[[i]])\n",
    "  X_train[i] = scaler.transform(X_train[[i]])\n",
    "  X_test[i] = scaler.transform(X_test[[i]])\n",
    "\n",
    "X_train.head()"
   ]
  },
  {
   "cell_type": "markdown",
   "id": "8de00ee0",
   "metadata": {},
   "source": [
    "## Class Imbalance"
   ]
  },
  {
   "cell_type": "markdown",
   "id": "67a2182a",
   "metadata": {},
   "source": [
    "Because the classification target in model will be carried out using the 'churn' column, it is necessary to check whether the 'churn' column has imbalanced or balanced data."
   ]
  },
  {
   "cell_type": "code",
   "execution_count": 38,
   "id": "b2057da8",
   "metadata": {},
   "outputs": [
    {
     "name": "stdout",
     "output_type": "stream",
     "text": [
      "False    4671\n",
      "True      948\n",
      "Name: Churn_Class, dtype: int64\n"
     ]
    }
   ],
   "source": [
    "df['Churn_Class'] = df['Churn']>0.9\n",
    "print(df['Churn_Class'].value_counts())"
   ]
  },
  {
   "cell_type": "markdown",
   "id": "b4dac91c",
   "metadata": {},
   "source": [
    "Displays the number of churn and non-churn customers, makes the target of categorical type"
   ]
  },
  {
   "cell_type": "code",
   "execution_count": 39,
   "id": "89a43873",
   "metadata": {},
   "outputs": [
    {
     "name": "stdout",
     "output_type": "stream",
     "text": [
      "(5619, 31)\n",
      "(5619,)\n"
     ]
    }
   ],
   "source": [
    "x = df[[col for col in df.columns if col not in ['Churn_Class','Churn']]].values\n",
    "y = df['Churn_Class'].values\n",
    "print(x.shape)\n",
    "print(y.shape)\n",
    "\n",
    "# Separation of features and targets"
   ]
  },
  {
   "cell_type": "code",
   "execution_count": 40,
   "id": "0a1c8362",
   "metadata": {},
   "outputs": [
    {
     "data": {
      "text/plain": [
       "(5619,)"
      ]
     },
     "execution_count": 40,
     "metadata": {},
     "output_type": "execute_result"
    }
   ],
   "source": [
    "y.shape"
   ]
  },
  {
   "cell_type": "code",
   "execution_count": 41,
   "id": "c5e108a7",
   "metadata": {},
   "outputs": [
    {
     "data": {
      "text/plain": [
       "(3933,)"
      ]
     },
     "execution_count": 41,
     "metadata": {},
     "output_type": "execute_result"
    }
   ],
   "source": [
    "y_train.shape"
   ]
  },
  {
   "cell_type": "code",
   "execution_count": 42,
   "id": "03a79098",
   "metadata": {},
   "outputs": [
    {
     "name": "stdout",
     "output_type": "stream",
     "text": [
      "0    3255\n",
      "1     678\n",
      "Name: Churn, dtype: int64\n"
     ]
    }
   ],
   "source": [
    "print(pd.Series(y_train).value_counts())"
   ]
  },
  {
   "cell_type": "code",
   "execution_count": 43,
   "id": "fb84fa70",
   "metadata": {},
   "outputs": [
    {
     "data": {
      "text/plain": [
       "(3933, 30)"
      ]
     },
     "execution_count": 43,
     "metadata": {},
     "output_type": "execute_result"
    }
   ],
   "source": [
    "X_train.shape"
   ]
  },
  {
   "cell_type": "code",
   "execution_count": 46,
   "id": "dbef4e46",
   "metadata": {},
   "outputs": [
    {
     "name": "stdout",
     "output_type": "stream",
     "text": [
      "Collecting imbalanced-learn\n",
      "  Downloading imbalanced_learn-0.10.1-py3-none-any.whl (226 kB)\n",
      "Requirement already satisfied: scikit-learn>=1.0.2 in c:\\users\\ayush gupta\\anaconda3-new\\lib\\site-packages (from imbalanced-learn) (1.1.1)\n",
      "Collecting joblib>=1.1.1\n",
      "  Downloading joblib-1.2.0-py3-none-any.whl (297 kB)\n",
      "Requirement already satisfied: scipy>=1.3.2 in c:\\users\\ayush gupta\\anaconda3-new\\lib\\site-packages (from imbalanced-learn) (1.7.1)\n",
      "Requirement already satisfied: threadpoolctl>=2.0.0 in c:\\users\\ayush gupta\\anaconda3-new\\lib\\site-packages (from imbalanced-learn) (2.2.0)\n",
      "Requirement already satisfied: numpy>=1.17.3 in c:\\users\\ayush gupta\\anaconda3-new\\lib\\site-packages (from imbalanced-learn) (1.20.3)\n",
      "Installing collected packages: joblib, imbalanced-learn\n",
      "  Attempting uninstall: joblib\n",
      "    Found existing installation: joblib 1.1.0\n",
      "    Uninstalling joblib-1.1.0:\n",
      "      Successfully uninstalled joblib-1.1.0\n",
      "Successfully installed imbalanced-learn-0.10.1 joblib-1.2.0\n",
      "Note: you may need to restart the kernel to use updated packages.\n"
     ]
    }
   ],
   "source": [
    "pip install -U imbalanced-learn"
   ]
  },
  {
   "cell_type": "code",
   "execution_count": 48,
   "id": "6829d4cc",
   "metadata": {},
   "outputs": [],
   "source": [
    "#Over Sampling using SMOTE\n",
    "from imblearn import over_sampling\n",
    "X_train_smote, y_train_smote = over_sampling.SMOTE(random_state=3).fit_resample(X_train, y_train)"
   ]
  },
  {
   "cell_type": "code",
   "execution_count": 49,
   "id": "1a54e8b0",
   "metadata": {},
   "outputs": [
    {
     "name": "stdout",
     "output_type": "stream",
     "text": [
      "Target before oversampling:\n",
      "0    3255\n",
      "1     678\n",
      "Name: Churn, dtype: int64\n"
     ]
    }
   ],
   "source": [
    "# Before Oversampling\n",
    "print('Target before oversampling:')\n",
    "print(pd.Series(y_train).value_counts())"
   ]
  },
  {
   "cell_type": "code",
   "execution_count": 50,
   "id": "ecddf35f",
   "metadata": {},
   "outputs": [
    {
     "name": "stdout",
     "output_type": "stream",
     "text": [
      "Target after oversampling:\n",
      "0    3255\n",
      "1    3255\n",
      "Name: Churn, dtype: int64\n"
     ]
    }
   ],
   "source": [
    "# After Oversampling\n",
    "print('Target after oversampling:')\n",
    "print(pd.Series(y_train_smote).value_counts())"
   ]
  },
  {
   "cell_type": "code",
   "execution_count": 51,
   "id": "e81c1686",
   "metadata": {},
   "outputs": [
    {
     "data": {
      "text/plain": [
       "0       0\n",
       "1       0\n",
       "2       0\n",
       "3       0\n",
       "4       0\n",
       "       ..\n",
       "6505    1\n",
       "6506    1\n",
       "6507    1\n",
       "6508    1\n",
       "6509    1\n",
       "Name: Churn, Length: 6510, dtype: int64"
      ]
     },
     "execution_count": 51,
     "metadata": {},
     "output_type": "execute_result"
    }
   ],
   "source": [
    "y_train_smote"
   ]
  },
  {
   "cell_type": "code",
   "execution_count": 52,
   "id": "2efc2026",
   "metadata": {},
   "outputs": [
    {
     "name": "stdout",
     "output_type": "stream",
     "text": [
      "<class 'pandas.core.frame.DataFrame'>\n",
      "RangeIndex: 6510 entries, 0 to 6509\n",
      "Data columns (total 30 columns):\n",
      " #   Column                               Non-Null Count  Dtype  \n",
      "---  ------                               --------------  -----  \n",
      " 0   Tenure                               6510 non-null   float64\n",
      " 1   CityTier                             6510 non-null   float64\n",
      " 2   WarehouseToHome                      6510 non-null   float64\n",
      " 3   Gender                               6510 non-null   int64  \n",
      " 4   HourSpendOnApp                       6510 non-null   float64\n",
      " 5   NumberOfDeviceRegistered             6510 non-null   float64\n",
      " 6   SatisfactionScore                    6510 non-null   float64\n",
      " 7   NumberOfAddress                      6510 non-null   float64\n",
      " 8   Complain                             6510 non-null   float64\n",
      " 9   OrderAmountHikeFromlastYear          6510 non-null   float64\n",
      " 10  CouponUsed                           6510 non-null   float64\n",
      " 11  OrderCount                           6510 non-null   float64\n",
      " 12  DaySinceLastOrder                    6510 non-null   float64\n",
      " 13  CashbackAmount                       6510 non-null   float64\n",
      " 14  PreferredLoginDevice_Computer        6510 non-null   uint8  \n",
      " 15  PreferredLoginDevice_Mobile Phone    6510 non-null   uint8  \n",
      " 16  PreferredPaymentMode_COD             6510 non-null   uint8  \n",
      " 17  PreferredPaymentMode_Credit Card     6510 non-null   uint8  \n",
      " 18  PreferredPaymentMode_Debit Card      6510 non-null   uint8  \n",
      " 19  PreferredPaymentMode_E wallet        6510 non-null   uint8  \n",
      " 20  PreferredPaymentMode_UPI             6510 non-null   uint8  \n",
      " 21  PreferedOrderCat_Fashion             6510 non-null   uint8  \n",
      " 22  PreferedOrderCat_Grocery             6510 non-null   uint8  \n",
      " 23  PreferedOrderCat_Laptop & Accessory  6510 non-null   uint8  \n",
      " 24  PreferedOrderCat_Mobile              6510 non-null   uint8  \n",
      " 25  PreferedOrderCat_Mobile Phone        6510 non-null   uint8  \n",
      " 26  PreferedOrderCat_Others              6510 non-null   uint8  \n",
      " 27  MaritalStatus_Divorced               6510 non-null   uint8  \n",
      " 28  MaritalStatus_Married                6510 non-null   uint8  \n",
      " 29  MaritalStatus_Single                 6510 non-null   uint8  \n",
      "dtypes: float64(13), int64(1), uint8(16)\n",
      "memory usage: 813.9 KB\n"
     ]
    }
   ],
   "source": [
    "X_train_smote.info()"
   ]
  },
  {
   "cell_type": "markdown",
   "id": "961c5ec3",
   "metadata": {},
   "source": [
    "## Modeling The Data"
   ]
  },
  {
   "cell_type": "markdown",
   "id": "56315c5c",
   "metadata": {},
   "source": [
    "## Model Evaluate(default)"
   ]
  },
  {
   "cell_type": "code",
   "execution_count": 53,
   "id": "c4c6f716",
   "metadata": {},
   "outputs": [],
   "source": [
    "# Model Evaluation Classification test\n",
    "\n",
    "from sklearn.metrics import accuracy_score, precision_score, recall_score, f1_score, roc_auc_score\n",
    "from sklearn.model_selection import cross_validate\n",
    "\n",
    "def eval_classification(model):\n",
    "    y_pred = model.predict(X_test)\n",
    "    y_pred_train = model.predict(X_train)\n",
    "    y_pred_proba = model.predict_proba(X_test)\n",
    "    y_pred_proba_train = model.predict_proba(X_train)\n",
    "    \n",
    "    print(\"Accuracy (Test Set): %.2f\" % accuracy_score(y_test, y_pred))\n",
    "    print(\"Precision (Test Set): %.2f\" % precision_score(y_test, y_pred))\n",
    "    print(\"Recall (Test Set): %.2f\" % recall_score(y_test, y_pred))\n",
    "    print(\"F1-Score (Test Set): %.2f\" % f1_score(y_test, y_pred))\n",
    "    \n",
    "    print(\"roc_auc (test-proba): %.2f\" % roc_auc_score(y_test, y_pred_proba[:, 1]))\n",
    "    print(\"roc_auc (train-proba): %.2f\" % roc_auc_score(y_train, y_pred_proba_train[:, 1]))\n",
    "\n",
    "    score = cross_validate(model, X, y, cv=5, scoring='roc_auc', return_train_score=True)\n",
    "    print('roc_auc (crossval train): '+ str(score['train_score'].mean()))\n",
    "    print('roc_auc (crossval test): '+ str(score['test_score'].mean()))\n",
    "\n",
    "def show_feature_importance(model):\n",
    "    feat_importances = pd.Series(model.feature_importances_, index=X.columns)\n",
    "    ax = feat_importances.nlargest(25).plot(kind='barh', figsize=(10, 8))\n",
    "    ax.invert_yaxis()\n",
    "\n",
    "    plt.xlabel('score')\n",
    "    plt.ylabel('feature')\n",
    "    plt.title('feature importance score')\n",
    "\n",
    "def show_best_hyperparameter(model):\n",
    "    print(model.best_estimator_.get_params())"
   ]
  },
  {
   "cell_type": "markdown",
   "id": "45faadf0",
   "metadata": {},
   "source": [
    "## Decision Tree"
   ]
  },
  {
   "cell_type": "code",
   "execution_count": 54,
   "id": "ef21ee08",
   "metadata": {},
   "outputs": [
    {
     "name": "stdout",
     "output_type": "stream",
     "text": [
      "Accuracy (Test Set): 0.94\n",
      "Precision (Test Set): 0.80\n",
      "Recall (Test Set): 0.87\n",
      "F1-Score (Test Set): 0.83\n",
      "roc_auc (test-proba): 0.91\n",
      "roc_auc (train-proba): 1.00\n",
      "roc_auc (crossval train): 1.0\n",
      "roc_auc (crossval test): 0.9705914504568053\n"
     ]
    }
   ],
   "source": [
    "from sklearn.tree import DecisionTreeClassifier\n",
    "from sklearn import tree\n",
    "dt = DecisionTreeClassifier(random_state=3)\n",
    "dt.fit(X_train, y_train)\n",
    "eval_classification(dt)"
   ]
  },
  {
   "cell_type": "markdown",
   "id": "02aceb96",
   "metadata": {},
   "source": [
    "## Logistic Regression"
   ]
  },
  {
   "cell_type": "code",
   "execution_count": 55,
   "id": "89d77042",
   "metadata": {},
   "outputs": [
    {
     "name": "stdout",
     "output_type": "stream",
     "text": [
      "Accuracy (Test Set): 0.89\n",
      "Precision (Test Set): 0.69\n",
      "Recall (Test Set): 0.54\n",
      "F1-Score (Test Set): 0.61\n",
      "roc_auc (test-proba): 0.88\n",
      "roc_auc (train-proba): 0.90\n",
      "roc_auc (crossval train): 0.8863608778304093\n",
      "roc_auc (crossval test): 0.8845690329472589\n"
     ]
    }
   ],
   "source": [
    "from sklearn.linear_model import LogisticRegression \n",
    "logreg = LogisticRegression(random_state=3)\n",
    "logreg.fit(X_train, y_train)\n",
    "eval_classification(logreg)"
   ]
  },
  {
   "cell_type": "markdown",
   "id": "93aad05c",
   "metadata": {},
   "source": [
    "## ADABoost"
   ]
  },
  {
   "cell_type": "code",
   "execution_count": 56,
   "id": "576725c9",
   "metadata": {},
   "outputs": [
    {
     "name": "stdout",
     "output_type": "stream",
     "text": [
      "Accuracy (Test Set): 0.89\n",
      "Precision (Test Set): 0.67\n",
      "Recall (Test Set): 0.58\n",
      "F1-Score (Test Set): 0.62\n",
      "roc_auc (test-proba): 0.91\n",
      "roc_auc (train-proba): 0.93\n",
      "roc_auc (crossval train): 0.9296688107323204\n",
      "roc_auc (crossval test): 0.9187608592018532\n"
     ]
    }
   ],
   "source": [
    "from sklearn.ensemble import AdaBoostClassifier\n",
    "\n",
    "ada = AdaBoostClassifier(random_state=3)\n",
    "ada.fit(X_train, y_train)\n",
    "eval_classification(ada)"
   ]
  },
  {
   "cell_type": "markdown",
   "id": "cedee182",
   "metadata": {},
   "source": [
    "## XGBoost"
   ]
  },
  {
   "cell_type": "code",
   "execution_count": 58,
   "id": "65822b10",
   "metadata": {},
   "outputs": [
    {
     "name": "stdout",
     "output_type": "stream",
     "text": [
      "Collecting xgboost\n",
      "  Downloading xgboost-1.7.3-py3-none-win_amd64.whl (89.1 MB)\n",
      "Requirement already satisfied: numpy in c:\\users\\ayush gupta\\anaconda3-new\\lib\\site-packages (from xgboost) (1.20.3)\n",
      "Requirement already satisfied: scipy in c:\\users\\ayush gupta\\anaconda3-new\\lib\\site-packages (from xgboost) (1.7.1)\n",
      "Installing collected packages: xgboost\n",
      "Successfully installed xgboost-1.7.3\n",
      "Note: you may need to restart the kernel to use updated packages.\n"
     ]
    }
   ],
   "source": [
    "pip install xgboost"
   ]
  },
  {
   "cell_type": "code",
   "execution_count": 59,
   "id": "feda736e",
   "metadata": {},
   "outputs": [
    {
     "name": "stdout",
     "output_type": "stream",
     "text": [
      "Accuracy (Test Set): 0.97\n",
      "Precision (Test Set): 0.92\n",
      "Recall (Test Set): 0.91\n",
      "F1-Score (Test Set): 0.92\n",
      "roc_auc (test-proba): 0.99\n",
      "roc_auc (train-proba): 1.00\n",
      "roc_auc (crossval train): 1.0\n",
      "roc_auc (crossval test): 0.9990793002002156\n"
     ]
    }
   ],
   "source": [
    "from xgboost import XGBClassifier\n",
    "\n",
    "xg = XGBClassifier(random_state=3)\n",
    "xg.fit(X_train, y_train)\n",
    "eval_classification(xg)"
   ]
  },
  {
   "cell_type": "markdown",
   "id": "329413db",
   "metadata": {},
   "source": [
    "## Random Forest Model"
   ]
  },
  {
   "cell_type": "code",
   "execution_count": 60,
   "id": "158f9297",
   "metadata": {},
   "outputs": [
    {
     "name": "stdout",
     "output_type": "stream",
     "text": [
      "Accuracy (Test Set): 0.96\n",
      "Precision (Test Set): 0.93\n",
      "Recall (Test Set): 0.82\n",
      "F1-Score (Test Set): 0.87\n",
      "roc_auc (test-proba): 0.99\n",
      "roc_auc (train-proba): 1.00\n",
      "roc_auc (crossval train): 1.0\n",
      "roc_auc (crossval test): 0.9991317190198131\n"
     ]
    }
   ],
   "source": [
    "from sklearn.ensemble import RandomForestClassifier\n",
    "\n",
    "rf = RandomForestClassifier(random_state=3)\n",
    "rf.fit(X_train, y_train)\n",
    "\n",
    "y_pred = rf.predict(X_test)\n",
    "eval_classification(rf)"
   ]
  },
  {
   "cell_type": "markdown",
   "id": "3182b604",
   "metadata": {},
   "source": [
    "To avoid false positive churn, we decided to choose a model with the smallest ROC-AUC gap and the highest precision. From several model test results, **Random Forest** is the most suitable algorithm model."
   ]
  },
  {
   "cell_type": "code",
   "execution_count": 61,
   "id": "4119d345",
   "metadata": {},
   "outputs": [
    {
     "name": "stdout",
     "output_type": "stream",
     "text": [
      "Accuracy (Test Set): 0.95\n",
      "Precision (Test Set): 0.86\n",
      "Recall (Test Set): 0.82\n",
      "F1-Score (Test Set): 0.84\n",
      "roc_auc (test-proba): 0.98\n",
      "roc_auc (train-proba): 1.00\n",
      "roc_auc (crossval train): 1.0\n",
      "roc_auc (crossval test): 0.9991317190198131\n"
     ]
    }
   ],
   "source": [
    "# Random Forest Model after oversampling\n",
    "from sklearn.ensemble import RandomForestClassifier\n",
    "\n",
    "rf = RandomForestClassifier(random_state=3)\n",
    "rf.fit(X_train_smote, y_train_smote)\n",
    "\n",
    "y_pred_over = rf.predict(X_test)\n",
    "eval_classification(rf)"
   ]
  },
  {
   "cell_type": "markdown",
   "id": "fda4cc97",
   "metadata": {},
   "source": [
    "# K-Fold Cross Validation"
   ]
  },
  {
   "cell_type": "markdown",
   "id": "4c4cdbd4",
   "metadata": {},
   "source": [
    "## Check Train & Validation in each iteration"
   ]
  },
  {
   "cell_type": "code",
   "execution_count": 62,
   "id": "074a255a",
   "metadata": {},
   "outputs": [
    {
     "data": {
      "text/plain": [
       "5"
      ]
     },
     "execution_count": 62,
     "metadata": {},
     "output_type": "execute_result"
    }
   ],
   "source": [
    "from sklearn.model_selection import KFold\n",
    "\n",
    "import pandas as pd\n",
    "\n",
    "dataset = df\n",
    "X = df[feature]\n",
    "y = df['Churn']\n",
    "kf = KFold(n_splits=5, random_state=3, shuffle=True)\n",
    "kf.get_n_splits(X) # returns the number of splitting iterations in the cross-validatorprint(kf)"
   ]
  },
  {
   "cell_type": "code",
   "execution_count": 63,
   "id": "347c7656",
   "metadata": {},
   "outputs": [
    {
     "name": "stdout",
     "output_type": "stream",
     "text": [
      "TRAIN: [   1    2    3 ... 5616 5617 5618] TEST: [   0    6    9 ... 5609 5611 5613]\n",
      "TRAIN: [   0    1    2 ... 5616 5617 5618] TEST: [   4    8   19 ... 5600 5607 5614]\n",
      "TRAIN: [   0    1    2 ... 5614 5616 5618] TEST: [   3    5   16 ... 5612 5615 5617]\n",
      "TRAIN: [   0    3    4 ... 5614 5615 5617] TEST: [   1    2   10 ... 5608 5616 5618]\n",
      "TRAIN: [   0    1    2 ... 5616 5617 5618] TEST: [   7   13   14 ... 5604 5605 5606]\n"
     ]
    }
   ],
   "source": [
    "for train_index, test_index in kf.split(X):\n",
    "    print(\"TRAIN:\", train_index, \"TEST:\", test_index)\n",
    "    X_train, X_test = X.iloc[train_index], X.iloc[test_index]\n",
    "    y_train, y_test = y.iloc[train_index], y.iloc[test_index]"
   ]
  },
  {
   "cell_type": "markdown",
   "id": "3cd80706",
   "metadata": {},
   "source": [
    "## Cross Validation in Validation Set Only"
   ]
  },
  {
   "cell_type": "code",
   "execution_count": 64,
   "id": "fc7b8a1e",
   "metadata": {},
   "outputs": [
    {
     "data": {
      "text/plain": [
       "0.9898485086133132"
      ]
     },
     "execution_count": 64,
     "metadata": {},
     "output_type": "execute_result"
    }
   ],
   "source": [
    "from sklearn.model_selection import cross_val_score\n",
    "model = RandomForestClassifier()\n",
    "result = cross_val_score(model, X, y, cv=kf, scoring='roc_auc')\n",
    "result.mean()"
   ]
  },
  {
   "cell_type": "markdown",
   "id": "48a1e42b",
   "metadata": {},
   "source": [
    "## Cross Validation in Train Set & Validation Set"
   ]
  },
  {
   "cell_type": "code",
   "execution_count": 65,
   "id": "2d65b1da",
   "metadata": {},
   "outputs": [
    {
     "name": "stdout",
     "output_type": "stream",
     "text": [
      "roc_auc (train): 1.0\n",
      "roc_auc (test): 0.9906322807557192\n"
     ]
    }
   ],
   "source": [
    "from sklearn.model_selection import cross_validate\n",
    "from sklearn.linear_model import LinearRegression\n",
    "model = RandomForestClassifier()\n",
    "score = cross_validate(model, X, y, cv=kf, scoring='roc_auc', return_train_score=True)\n",
    "print('roc_auc (train): '+ str(score['train_score'].mean()))\n",
    "print('roc_auc (test): '+ str(score['test_score'].mean()))"
   ]
  },
  {
   "cell_type": "markdown",
   "id": "dd0ff465",
   "metadata": {},
   "source": [
    "After k-fold cross validation, the model is best-fit, as can be seen from the train scores and test scores, which have very small differences."
   ]
  },
  {
   "cell_type": "markdown",
   "id": "10f68eb6",
   "metadata": {},
   "source": [
    "## HyperParameter Tuning"
   ]
  },
  {
   "cell_type": "code",
   "execution_count": 67,
   "id": "242b5637",
   "metadata": {},
   "outputs": [
    {
     "name": "stdout",
     "output_type": "stream",
     "text": [
      "Accuracy (Test Set): 0.86\n",
      "Precision (Test Set): 0.67\n",
      "Recall (Test Set): 0.30\n",
      "F1-Score (Test Set): 0.42\n",
      "roc_auc (test-proba): 0.82\n",
      "roc_auc (train-proba): 0.83\n",
      "roc_auc (crossval train): 0.9974605168250431\n",
      "roc_auc (crossval test): 0.9857799176417457\n"
     ]
    }
   ],
   "source": [
    "# Hyperparameter Tuning RandomForest\n",
    "from sklearn.model_selection import RandomizedSearchCV\n",
    "\n",
    "n_estimators = [int(x) for x in np.linspace(700, 800, 50)]\n",
    "criterion = ['gini', 'entropy']\n",
    "max_depth = [int(x) for x in np.linspace(2, 100, 50)]\n",
    "min_samples_split = [int(x) for x in np.linspace(2, 20, 10)]\n",
    "min_samples_leaf = [int(x) for x in np.linspace(2, 20, 10)]\n",
    "hyperparameters = dict(n_estimators=n_estimators, criterion=criterion, max_depth=max_depth,\n",
    "                       min_samples_split=min_samples_split, min_samples_leaf=min_samples_leaf)\n",
    "\n",
    "rf = RandomForestClassifier(random_state=3)\n",
    "rs = RandomizedSearchCV(rf, hyperparameters, scoring='roc_auc', random_state=3, cv=5)\n",
    "rs.fit(X_train_smote, y_train_smote)\n",
    "eval_classification(rs)"
   ]
  },
  {
   "cell_type": "code",
   "execution_count": 73,
   "id": "f6221db4",
   "metadata": {},
   "outputs": [
    {
     "data": {
      "text/html": [
       "<style>#sk-container-id-1 {color: black;background-color: white;}#sk-container-id-1 pre{padding: 0;}#sk-container-id-1 div.sk-toggleable {background-color: white;}#sk-container-id-1 label.sk-toggleable__label {cursor: pointer;display: block;width: 100%;margin-bottom: 0;padding: 0.3em;box-sizing: border-box;text-align: center;}#sk-container-id-1 label.sk-toggleable__label-arrow:before {content: \"▸\";float: left;margin-right: 0.25em;color: #696969;}#sk-container-id-1 label.sk-toggleable__label-arrow:hover:before {color: black;}#sk-container-id-1 div.sk-estimator:hover label.sk-toggleable__label-arrow:before {color: black;}#sk-container-id-1 div.sk-toggleable__content {max-height: 0;max-width: 0;overflow: hidden;text-align: left;background-color: #f0f8ff;}#sk-container-id-1 div.sk-toggleable__content pre {margin: 0.2em;color: black;border-radius: 0.25em;background-color: #f0f8ff;}#sk-container-id-1 input.sk-toggleable__control:checked~div.sk-toggleable__content {max-height: 200px;max-width: 100%;overflow: auto;}#sk-container-id-1 input.sk-toggleable__control:checked~label.sk-toggleable__label-arrow:before {content: \"▾\";}#sk-container-id-1 div.sk-estimator input.sk-toggleable__control:checked~label.sk-toggleable__label {background-color: #d4ebff;}#sk-container-id-1 div.sk-label input.sk-toggleable__control:checked~label.sk-toggleable__label {background-color: #d4ebff;}#sk-container-id-1 input.sk-hidden--visually {border: 0;clip: rect(1px 1px 1px 1px);clip: rect(1px, 1px, 1px, 1px);height: 1px;margin: -1px;overflow: hidden;padding: 0;position: absolute;width: 1px;}#sk-container-id-1 div.sk-estimator {font-family: monospace;background-color: #f0f8ff;border: 1px dotted black;border-radius: 0.25em;box-sizing: border-box;margin-bottom: 0.5em;}#sk-container-id-1 div.sk-estimator:hover {background-color: #d4ebff;}#sk-container-id-1 div.sk-parallel-item::after {content: \"\";width: 100%;border-bottom: 1px solid gray;flex-grow: 1;}#sk-container-id-1 div.sk-label:hover label.sk-toggleable__label {background-color: #d4ebff;}#sk-container-id-1 div.sk-serial::before {content: \"\";position: absolute;border-left: 1px solid gray;box-sizing: border-box;top: 0;bottom: 0;left: 50%;z-index: 0;}#sk-container-id-1 div.sk-serial {display: flex;flex-direction: column;align-items: center;background-color: white;padding-right: 0.2em;padding-left: 0.2em;position: relative;}#sk-container-id-1 div.sk-item {position: relative;z-index: 1;}#sk-container-id-1 div.sk-parallel {display: flex;align-items: stretch;justify-content: center;background-color: white;position: relative;}#sk-container-id-1 div.sk-item::before, #sk-container-id-1 div.sk-parallel-item::before {content: \"\";position: absolute;border-left: 1px solid gray;box-sizing: border-box;top: 0;bottom: 0;left: 50%;z-index: -1;}#sk-container-id-1 div.sk-parallel-item {display: flex;flex-direction: column;z-index: 1;position: relative;background-color: white;}#sk-container-id-1 div.sk-parallel-item:first-child::after {align-self: flex-end;width: 50%;}#sk-container-id-1 div.sk-parallel-item:last-child::after {align-self: flex-start;width: 50%;}#sk-container-id-1 div.sk-parallel-item:only-child::after {width: 0;}#sk-container-id-1 div.sk-dashed-wrapped {border: 1px dashed gray;margin: 0 0.4em 0.5em 0.4em;box-sizing: border-box;padding-bottom: 0.4em;background-color: white;}#sk-container-id-1 div.sk-label label {font-family: monospace;font-weight: bold;display: inline-block;line-height: 1.2em;}#sk-container-id-1 div.sk-label-container {text-align: center;}#sk-container-id-1 div.sk-container {/* jupyter's `normalize.less` sets `[hidden] { display: none; }` but bootstrap.min.css set `[hidden] { display: none !important; }` so we also need the `!important` here to be able to override the default hidden behavior on the sphinx rendered scikit-learn.org. See: https://github.com/scikit-learn/scikit-learn/issues/21755 */display: inline-block !important;position: relative;}#sk-container-id-1 div.sk-text-repr-fallback {display: none;}</style><div id=\"sk-container-id-1\" class=\"sk-top-container\"><div class=\"sk-text-repr-fallback\"><pre>RandomForestClassifier(random_state=3)</pre><b>In a Jupyter environment, please rerun this cell to show the HTML representation or trust the notebook. <br />On GitHub, the HTML representation is unable to render, please try loading this page with nbviewer.org.</b></div><div class=\"sk-container\" hidden><div class=\"sk-item\"><div class=\"sk-estimator sk-toggleable\"><input class=\"sk-toggleable__control sk-hidden--visually\" id=\"sk-estimator-id-1\" type=\"checkbox\" checked><label for=\"sk-estimator-id-1\" class=\"sk-toggleable__label sk-toggleable__label-arrow\">RandomForestClassifier</label><div class=\"sk-toggleable__content\"><pre>RandomForestClassifier(random_state=3)</pre></div></div></div></div></div>"
      ],
      "text/plain": [
       "RandomForestClassifier(random_state=3)"
      ]
     },
     "execution_count": 73,
     "metadata": {},
     "output_type": "execute_result"
    }
   ],
   "source": [
    "rf.fit(X_train_smote, y_train_smote)"
   ]
  },
  {
   "cell_type": "markdown",
   "id": "96b3bb03",
   "metadata": {},
   "source": [
    "## Learning Curve"
   ]
  },
  {
   "cell_type": "code",
   "execution_count": 69,
   "id": "532f5640",
   "metadata": {},
   "outputs": [
    {
     "name": "stdout",
     "output_type": "stream",
     "text": [
      "param value: 10; train: 0.99580605048124; test: 0.7864432662940126\n",
      "param value: 10; train: 0.9951904785500741; test: 0.7658704546764248\n",
      "param value: 11; train: 0.9945703761907122; test: 0.8021005013542328\n",
      "param value: 11; train: 0.9948846746468272; test: 0.7798709156918112\n",
      "param value: 12; train: 0.9931779302078098; test: 0.7624963983172938\n",
      "param value: 13; train: 0.9929124282387254; test: 0.8079784475306864\n",
      "param value: 13; train: 0.9932130410263307; test: 0.7709329798882039\n",
      "param value: 14; train: 0.9921495230072604; test: 0.779640407998617\n",
      "param value: 14; train: 0.991737820344926; test: 0.7965308592174264\n",
      "param value: 15; train: 0.9910339050639333; test: 0.778551259148274\n",
      "param value: 16; train: 0.9897365980731522; test: 0.7889932576499742\n",
      "param value: 16; train: 0.9906508007295878; test: 0.7786665129948712\n",
      "param value: 17; train: 0.9896011571468685; test: 0.7724255172016365\n",
      "param value: 17; train: 0.9897426386440805; test: 0.803255921166369\n",
      "param value: 18; train: 0.9879455687929004; test: 0.7744511035555812\n",
      "param value: 19; train: 0.9874138097833653; test: 0.7589408171497722\n",
      "param value: 19; train: 0.9863905936984575; test: 0.7680689218002652\n",
      "param value: 20; train: 0.9866682711933195; test: 0.7835302253212701\n",
      "param value: 21; train: 0.9864703481114958; test: 0.7737912752838125\n",
      "param value: 21; train: 0.9853534087932779; test: 0.7783639716475537\n",
      "param value: 22; train: 0.9851483125334768; test: 0.784942084942085\n",
      "param value: 22; train: 0.9853366084553835; test: 0.7573791275283812\n",
      "param value: 23; train: 0.9846913999731006; test: 0.762726906010488\n",
      "param value: 24; train: 0.9833814455369383; test: 0.7791880366507233\n",
      "param value: 24; train: 0.9835252866321693; test: 0.7779663458767938\n",
      "param value: 25; train: 0.9831393507802011; test: 0.7681207860312338\n",
      "param value: 25; train: 0.9823411459623739; test: 0.7912493516971129\n",
      "param value: 26; train: 0.9827538868478365; test: 0.7687806143030025\n",
      "param value: 27; train: 0.9815291610921164; test: 0.7634501238978851\n",
      "param value: 27; train: 0.9813434135360701; test: 0.8004783034633782\n",
      "param value: 28; train: 0.9804835760179895; test: 0.7674868898749496\n",
      "param value: 28; train: 0.9802676256073015; test: 0.745663574021783\n",
      "param value: 29; train: 0.9799602171774016; test: 0.7957154382527517\n",
      "param value: 30; train: 0.9794868818148139; test: 0.7994352561516742\n",
      "param value: 30; train: 0.9788395025023537; test: 0.7853627614821644\n",
      "param value: 31; train: 0.9792279867201823; test: 0.7628421598570853\n",
      "param value: 32; train: 0.9769889169681053; test: 0.7541462571313318\n",
      "param value: 32; train: 0.977772303510374; test: 0.7779663458767936\n",
      "param value: 33; train: 0.9779152951503182; test: 0.7675128219904339\n",
      "param value: 33; train: 0.9761278524590551; test: 0.7656716417910447\n",
      "param value: 34; train: 0.975933138430537; test: 0.7326571774332968\n",
      "param value: 35; train: 0.9760705614191566; test: 0.7334120901285082\n",
      "param value: 35; train: 0.9770995349232303; test: 0.7835446320520947\n",
      "param value: 36; train: 0.9745069030040042; test: 0.7417362991989859\n",
      "param value: 36; train: 0.9767194508743489; test: 0.7428254480493286\n",
      "param value: 37; train: 0.9753639090044621; test: 0.7526364317409093\n",
      "param value: 38; train: 0.9730761371492753; test: 0.7680919725695845\n",
      "param value: 38; train: 0.973891142304997; test: 0.7778165158762173\n",
      "param value: 39; train: 0.9741597589434663; test: 0.7650752031349046\n",
      "param value: 40; train: 0.9721922317314023; test: 0.7478447530686337\n"
     ]
    },
    {
     "data": {
      "image/png": "[encoded data removed]",
      "text/plain": [
       "<Figure size 864x288 with 1 Axes>"
      ]
     },
     "metadata": {
      "needs_background": "light"
     },
     "output_type": "display_data"
    }
   ],
   "source": [
    "# param_values = [int(x) for x in np.linspace(700, 800, 50)] # n_estimators\n",
    "# param_values = [int(x) for x in np.linspace(750, 800, 50)] # max_depth\n",
    "# param_values = [int(x) for x in np.linspace(2, 20, 15)] # min_samples_split\n",
    "param_values = [int(x) for x in np.linspace(10, 40, 50)] # min_samples_leaf\n",
    "\n",
    "train_scores = []\n",
    "test_scores = []\n",
    "\n",
    "for i in param_values:\n",
    "    model = RandomForestClassifier(n_estimators=75, min_samples_leaf=i)\n",
    "    model.fit(X_train_smote, y_train_smote)\n",
    "\n",
    "    # eval on train\n",
    "    y_pred_train_proba = model.predict_proba(X_train_smote)\n",
    "    train_auc = roc_auc_score(y_train_smote, y_pred_train_proba[:,1])\n",
    "    train_scores.append(train_auc)\n",
    "\n",
    "    # eval on test\n",
    "    y_pred_proba = model.predict_proba(X_test)\n",
    "    test_auc = roc_auc_score(y_test, y_pred_proba[:,1])\n",
    "    test_scores.append(test_auc)\n",
    "\n",
    "    print('param value: ' + str(i) + '; train: ' + str(train_auc) + '; test: '+ str(test_auc))\n",
    "\n",
    "plt.plot(param_values, train_scores, label='Train')\n",
    "plt.plot(param_values, test_scores, label='Test')\n",
    "plt.ylabel('AUC')\n",
    "plt.xlabel('RandomForest')\n",
    "plt.legend()\n",
    "plt.show()"
   ]
  },
  {
   "cell_type": "markdown",
   "id": "d22eaa08",
   "metadata": {},
   "source": [
    "# Classification Report "
   ]
  },
  {
   "cell_type": "code",
   "execution_count": 70,
   "id": "735dfceb",
   "metadata": {},
   "outputs": [],
   "source": [
    "from sklearn.metrics import classification_report"
   ]
  },
  {
   "cell_type": "code",
   "execution_count": 78,
   "id": "0f168922",
   "metadata": {},
   "outputs": [
    {
     "data": {
      "text/plain": [
       "(1123,)"
      ]
     },
     "execution_count": 78,
     "metadata": {},
     "output_type": "execute_result"
    }
   ],
   "source": [
    "y_test.shape"
   ]
  },
  {
   "cell_type": "code",
   "execution_count": 79,
   "id": "4114da9a",
   "metadata": {},
   "outputs": [
    {
     "data": {
      "text/plain": [
       "(1686,)"
      ]
     },
     "execution_count": 79,
     "metadata": {},
     "output_type": "execute_result"
    }
   ],
   "source": [
    "y_pred.shape"
   ]
  },
  {
   "cell_type": "code",
   "execution_count": 81,
   "id": "26fe7a8a",
   "metadata": {},
   "outputs": [],
   "source": [
    "# print(classification_report(y_test, y_pred))"
   ]
  },
  {
   "cell_type": "markdown",
   "id": "27fc7d5b",
   "metadata": {},
   "source": [
    "## Feature Importance"
   ]
  },
  {
   "cell_type": "code",
   "execution_count": 74,
   "id": "b4c078d9",
   "metadata": {},
   "outputs": [
    {
     "data": {
      "image/png": "[encoded data removed]",
      "text/plain": [
       "<Figure size 720x576 with 1 Axes>"
      ]
     },
     "metadata": {
      "needs_background": "light"
     },
     "output_type": "display_data"
    }
   ],
   "source": [
    "show_feature_importance(rf)"
   ]
  },
  {
   "cell_type": "code",
   "execution_count": 76,
   "id": "45a6ce1c",
   "metadata": {},
   "outputs": [
    {
     "name": "stdout",
     "output_type": "stream",
     "text": [
      "Collecting shapNote: you may need to restart the kernel to use updated packages.\n",
      "  Downloading shap-0.41.0-cp39-cp39-win_amd64.whl (435 kB)\n",
      "Requirement already satisfied: scikit-learn in c:\\users\\ayush gupta\\anaconda3-new\\lib\\site-packages (from shap) (1.1.1)\n",
      "Requirement already satisfied: packaging>20.9 in c:\\users\\ayush gupta\\anaconda3-new\\lib\\site-packages (from shap) (21.0)\n",
      "\n",
      "Requirement already satisfied: cloudpickle in c:\\users\\ayush gupta\\anaconda3-new\\lib\\site-packages (from shap) (2.0.0)\n",
      "Requirement already satisfied: numba in c:\\users\\ayush gupta\\anaconda3-new\\lib\\site-packages (from shap) (0.54.1)\n",
      "Requirement already satisfied: tqdm>4.25.0 in c:\\users\\ayush gupta\\anaconda3-new\\lib\\site-packages (from shap) (4.62.3)\n",
      "Requirement already satisfied: scipy in c:\\users\\ayush gupta\\anaconda3-new\\lib\\site-packages (from shap) (1.7.1)\n",
      "Collecting slicer==0.0.7\n",
      "  Downloading slicer-0.0.7-py3-none-any.whl (14 kB)\n",
      "Requirement already satisfied: numpy in c:\\users\\ayush gupta\\anaconda3-new\\lib\\site-packages (from shap) (1.20.3)\n",
      "Requirement already satisfied: pandas in c:\\users\\ayush gupta\\anaconda3-new\\lib\\site-packages (from shap) (1.3.4)\n",
      "Requirement already satisfied: pyparsing>=2.0.2 in c:\\users\\ayush gupta\\anaconda3-new\\lib\\site-packages (from packaging>20.9->shap) (3.0.4)\n",
      "Requirement already satisfied: colorama in c:\\users\\ayush gupta\\anaconda3-new\\lib\\site-packages (from tqdm>4.25.0->shap) (0.4.4)\n",
      "Requirement already satisfied: setuptools in c:\\users\\ayush gupta\\anaconda3-new\\lib\\site-packages (from numba->shap) (58.0.4)\n",
      "Requirement already satisfied: llvmlite<0.38,>=0.37.0rc1 in c:\\users\\ayush gupta\\anaconda3-new\\lib\\site-packages (from numba->shap) (0.37.0)\n",
      "Requirement already satisfied: pytz>=2017.3 in c:\\users\\ayush gupta\\anaconda3-new\\lib\\site-packages (from pandas->shap) (2021.3)\n",
      "Requirement already satisfied: python-dateutil>=2.7.3 in c:\\users\\ayush gupta\\anaconda3-new\\lib\\site-packages (from pandas->shap) (2.8.2)\n",
      "Requirement already satisfied: six>=1.5 in c:\\users\\ayush gupta\\anaconda3-new\\lib\\site-packages (from python-dateutil>=2.7.3->pandas->shap) (1.16.0)\n",
      "Requirement already satisfied: threadpoolctl>=2.0.0 in c:\\users\\ayush gupta\\anaconda3-new\\lib\\site-packages (from scikit-learn->shap) (2.2.0)\n",
      "Requirement already satisfied: joblib>=1.0.0 in c:\\users\\ayush gupta\\anaconda3-new\\lib\\site-packages (from scikit-learn->shap) (1.2.0)\n",
      "Installing collected packages: slicer, shap\n",
      "Successfully installed shap-0.41.0 slicer-0.0.7\n"
     ]
    }
   ],
   "source": [
    "pip install shap"
   ]
  },
  {
   "cell_type": "code",
   "execution_count": 80,
   "id": "bac8f994",
   "metadata": {},
   "outputs": [
    {
     "data": {
      "image/png": "[encoded data removed]",
      "text/plain": [
       "<Figure size 576x684 with 2 Axes>"
      ]
     },
     "metadata": {
      "needs_background": "light"
     },
     "output_type": "display_data"
    }
   ],
   "source": [
    "import shap\n",
    "explainer = shap.TreeExplainer(rf)\n",
    "shap_values = explainer.shap_values(X_test)\n",
    "shap.summary_plot(shap_values[1], X_test)"
   ]
  },
  {
   "cell_type": "code",
   "execution_count": null,
   "id": "b514feae",
   "metadata": {},
   "outputs": [],
   "source": []
  },
  {
   "cell_type": "code",
   "execution_count": null,
   "id": "a21cee9c",
   "metadata": {},
   "outputs": [],
   "source": []
  },
  {
   "cell_type": "code",
   "execution_count": null,
   "id": "d933efc3",
   "metadata": {},
   "outputs": [],
   "source": []
  }
 ],
 "metadata": {
  "kernelspec": {
   "display_name": "Python 3 (ipykernel)",
   "language": "python",
   "name": "python3"
  },
  "language_info": {
   "codemirror_mode": {
    "name": "ipython",
    "version": 3
   },
   "file_extension": ".py",
   "mimetype": "text/x-python",
   "name": "python",
   "nbconvert_exporter": "python",
   "pygments_lexer": "ipython3",
   "version": "3.9.7"
  }
 },
 "nbformat": 4,
 "nbformat_minor": 5
}
